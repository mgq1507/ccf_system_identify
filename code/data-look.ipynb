{
 "cells": [
  {
   "cell_type": "code",
   "execution_count": 1,
   "metadata": {},
   "outputs": [],
   "source": [
    "import pandas as pd\n",
    "import matplotlib.pyplot as plt\n",
    "import seaborn as sns\n",
    "import numpy as np\n",
    "\n",
    "plt.style.use('fivethirtyeight') # For plots"
   ]
  },
  {
   "cell_type": "code",
   "execution_count": 12,
   "metadata": {},
   "outputs": [
    {
     "name": "stdout",
     "output_type": "stream",
     "text": [
      "(15016, 19)\n"
     ]
    }
   ],
   "source": [
    "data = pd.read_csv('../data/train_dataset.csv', delimiter='\\t')\n",
    "test =  pd.read_csv('../data/test_dataset.csv', delimiter='\\t')\n",
    "print(data.shape)"
   ]
  },
  {
   "cell_type": "code",
   "execution_count": 12,
   "metadata": {},
   "outputs": [
    {
     "data": {
      "text/plain": [
       "<matplotlib.axes._subplots.AxesSubplot at 0x29b88116f88>"
      ]
     },
     "execution_count": 12,
     "metadata": {},
     "output_type": "execute_result"
    },
    {
     "data": {
      "image/png": "[encoded data removed]",
      "text/plain": [
       "<Figure size 432x288 with 1 Axes>"
      ]
     },
     "metadata": {
      "needs_background": "light"
     },
     "output_type": "display_data"
    }
   ],
   "source": [
    "# 风险和年份的关系\n",
    "year_risk = data.groupby('year')['risk_label'].sum()\n",
    "sns.barplot(year_risk.index, year_risk.values)"
   ]
  },
  {
   "cell_type": "code",
   "execution_count": 57,
   "metadata": {},
   "outputs": [
    {
     "data": {
      "text/html": [
       "<div>\n",
       "<style scoped>\n",
       "    .dataframe tbody tr th:only-of-type {\n",
       "        vertical-align: middle;\n",
       "    }\n",
       "\n",
       "    .dataframe tbody tr th {\n",
       "        vertical-align: top;\n",
       "    }\n",
       "\n",
       "    .dataframe thead th {\n",
       "        text-align: right;\n",
       "    }\n",
       "</style>\n",
       "<table border=\"1\" class=\"dataframe\">\n",
       "  <thead>\n",
       "    <tr style=\"text-align: right;\">\n",
       "      <th>risk_label</th>\n",
       "      <th>0</th>\n",
       "      <th>1</th>\n",
       "    </tr>\n",
       "    <tr>\n",
       "      <th>year</th>\n",
       "      <th></th>\n",
       "      <th></th>\n",
       "    </tr>\n",
       "  </thead>\n",
       "  <tbody>\n",
       "    <tr>\n",
       "      <td>2018</td>\n",
       "      <td>0.798019</td>\n",
       "      <td>0.201981</td>\n",
       "    </tr>\n",
       "    <tr>\n",
       "      <td>2019</td>\n",
       "      <td>0.811814</td>\n",
       "      <td>0.188186</td>\n",
       "    </tr>\n",
       "  </tbody>\n",
       "</table>\n",
       "</div>"
      ],
      "text/plain": [
       "risk_label         0         1\n",
       "year                          \n",
       "2018        0.798019  0.201981\n",
       "2019        0.811814  0.188186"
      ]
     },
     "execution_count": 57,
     "metadata": {},
     "output_type": "execute_result"
    }
   ],
   "source": [
    "data.groupby(['year','risk_label']).size()\\\n",
    ".unstack('risk_label')\\\n",
    ".apply(lambda row:row/row.sum(), axis=1)\n"
   ]
  },
  {
   "cell_type": "code",
   "execution_count": 13,
   "metadata": {},
   "outputs": [
    {
     "data": {
      "text/plain": [
       "<matplotlib.axes._subplots.AxesSubplot at 0x29b88191e88>"
      ]
     },
     "execution_count": 13,
     "metadata": {},
     "output_type": "execute_result"
    },
    {
     "data": {
      "image/png": "[encoded data removed]",
      "text/plain": [
       "<Figure size 432x288 with 1 Axes>"
      ]
     },
     "metadata": {
      "needs_background": "light"
     },
     "output_type": "display_data"
    }
   ],
   "source": [
    "# 风险和月份的关系\n",
    "month_risk = data.groupby('month')['risk_label'].sum()\n",
    "sns.barplot(month_risk.index, month_risk.values)"
   ]
  },
  {
   "cell_type": "code",
   "execution_count": 56,
   "metadata": {},
   "outputs": [
    {
     "data": {
      "text/html": [
       "<div>\n",
       "<style scoped>\n",
       "    .dataframe tbody tr th:only-of-type {\n",
       "        vertical-align: middle;\n",
       "    }\n",
       "\n",
       "    .dataframe tbody tr th {\n",
       "        vertical-align: top;\n",
       "    }\n",
       "\n",
       "    .dataframe thead th {\n",
       "        text-align: right;\n",
       "    }\n",
       "</style>\n",
       "<table border=\"1\" class=\"dataframe\">\n",
       "  <thead>\n",
       "    <tr style=\"text-align: right;\">\n",
       "      <th>risk_label</th>\n",
       "      <th>0</th>\n",
       "      <th>1</th>\n",
       "    </tr>\n",
       "    <tr>\n",
       "      <th>month</th>\n",
       "      <th></th>\n",
       "      <th></th>\n",
       "    </tr>\n",
       "  </thead>\n",
       "  <tbody>\n",
       "    <tr>\n",
       "      <td>1</td>\n",
       "      <td>0.801974</td>\n",
       "      <td>0.198026</td>\n",
       "    </tr>\n",
       "    <tr>\n",
       "      <td>2</td>\n",
       "      <td>0.782952</td>\n",
       "      <td>0.217048</td>\n",
       "    </tr>\n",
       "    <tr>\n",
       "      <td>3</td>\n",
       "      <td>0.813162</td>\n",
       "      <td>0.186838</td>\n",
       "    </tr>\n",
       "    <tr>\n",
       "      <td>4</td>\n",
       "      <td>0.811309</td>\n",
       "      <td>0.188691</td>\n",
       "    </tr>\n",
       "    <tr>\n",
       "      <td>5</td>\n",
       "      <td>0.804364</td>\n",
       "      <td>0.195636</td>\n",
       "    </tr>\n",
       "    <tr>\n",
       "      <td>6</td>\n",
       "      <td>0.800000</td>\n",
       "      <td>0.200000</td>\n",
       "    </tr>\n",
       "    <tr>\n",
       "      <td>7</td>\n",
       "      <td>0.800516</td>\n",
       "      <td>0.199484</td>\n",
       "    </tr>\n",
       "    <tr>\n",
       "      <td>8</td>\n",
       "      <td>0.806069</td>\n",
       "      <td>0.193931</td>\n",
       "    </tr>\n",
       "    <tr>\n",
       "      <td>9</td>\n",
       "      <td>0.816429</td>\n",
       "      <td>0.183571</td>\n",
       "    </tr>\n",
       "    <tr>\n",
       "      <td>10</td>\n",
       "      <td>0.792545</td>\n",
       "      <td>0.207455</td>\n",
       "    </tr>\n",
       "    <tr>\n",
       "      <td>11</td>\n",
       "      <td>0.776799</td>\n",
       "      <td>0.223201</td>\n",
       "    </tr>\n",
       "    <tr>\n",
       "      <td>12</td>\n",
       "      <td>0.850140</td>\n",
       "      <td>0.149860</td>\n",
       "    </tr>\n",
       "  </tbody>\n",
       "</table>\n",
       "</div>"
      ],
      "text/plain": [
       "risk_label         0         1\n",
       "month                         \n",
       "1           0.801974  0.198026\n",
       "2           0.782952  0.217048\n",
       "3           0.813162  0.186838\n",
       "4           0.811309  0.188691\n",
       "5           0.804364  0.195636\n",
       "6           0.800000  0.200000\n",
       "7           0.800516  0.199484\n",
       "8           0.806069  0.193931\n",
       "9           0.816429  0.183571\n",
       "10          0.792545  0.207455\n",
       "11          0.776799  0.223201\n",
       "12          0.850140  0.149860"
      ]
     },
     "execution_count": 56,
     "metadata": {},
     "output_type": "execute_result"
    }
   ],
   "source": [
    "data.groupby(['month','risk_label']).size()\\\n",
    ".unstack('risk_label')\\\n",
    ".apply(lambda row:row/row.sum(), axis=1)\n"
   ]
  },
  {
   "cell_type": "code",
   "execution_count": 14,
   "metadata": {},
   "outputs": [
    {
     "data": {
      "text/plain": [
       "<matplotlib.axes._subplots.AxesSubplot at 0x29b88223748>"
      ]
     },
     "execution_count": 14,
     "metadata": {},
     "output_type": "execute_result"
    },
    {
     "data": {
      "image/png": "[encoded data removed]",
      "text/plain": [
       "<Figure size 432x288 with 1 Axes>"
      ]
     },
     "metadata": {
      "needs_background": "light"
     },
     "output_type": "display_data"
    }
   ],
   "source": [
    "# 风险和工作日和周末的关系\n",
    "weekday_risk = data.groupby('weekday')['risk_label'].sum()\n",
    "sns.barplot(weekday_risk.index, weekday_risk.values)"
   ]
  },
  {
   "cell_type": "code",
   "execution_count": 55,
   "metadata": {},
   "outputs": [
    {
     "data": {
      "text/html": [
       "<div>\n",
       "<style scoped>\n",
       "    .dataframe tbody tr th:only-of-type {\n",
       "        vertical-align: middle;\n",
       "    }\n",
       "\n",
       "    .dataframe tbody tr th {\n",
       "        vertical-align: top;\n",
       "    }\n",
       "\n",
       "    .dataframe thead th {\n",
       "        text-align: right;\n",
       "    }\n",
       "</style>\n",
       "<table border=\"1\" class=\"dataframe\">\n",
       "  <thead>\n",
       "    <tr style=\"text-align: right;\">\n",
       "      <th>risk_label</th>\n",
       "      <th>0</th>\n",
       "      <th>1</th>\n",
       "    </tr>\n",
       "    <tr>\n",
       "      <th>weekday</th>\n",
       "      <th></th>\n",
       "      <th></th>\n",
       "    </tr>\n",
       "  </thead>\n",
       "  <tbody>\n",
       "    <tr>\n",
       "      <td>0</td>\n",
       "      <td>0.799529</td>\n",
       "      <td>0.200471</td>\n",
       "    </tr>\n",
       "    <tr>\n",
       "      <td>1</td>\n",
       "      <td>0.799093</td>\n",
       "      <td>0.200907</td>\n",
       "    </tr>\n",
       "    <tr>\n",
       "      <td>2</td>\n",
       "      <td>0.802885</td>\n",
       "      <td>0.197115</td>\n",
       "    </tr>\n",
       "    <tr>\n",
       "      <td>3</td>\n",
       "      <td>0.797065</td>\n",
       "      <td>0.202935</td>\n",
       "    </tr>\n",
       "    <tr>\n",
       "      <td>4</td>\n",
       "      <td>0.819397</td>\n",
       "      <td>0.180603</td>\n",
       "    </tr>\n",
       "    <tr>\n",
       "      <td>5</td>\n",
       "      <td>0.803894</td>\n",
       "      <td>0.196106</td>\n",
       "    </tr>\n",
       "    <tr>\n",
       "      <td>6</td>\n",
       "      <td>0.807377</td>\n",
       "      <td>0.192623</td>\n",
       "    </tr>\n",
       "  </tbody>\n",
       "</table>\n",
       "</div>"
      ],
      "text/plain": [
       "risk_label         0         1\n",
       "weekday                       \n",
       "0           0.799529  0.200471\n",
       "1           0.799093  0.200907\n",
       "2           0.802885  0.197115\n",
       "3           0.797065  0.202935\n",
       "4           0.819397  0.180603\n",
       "5           0.803894  0.196106\n",
       "6           0.807377  0.192623"
      ]
     },
     "execution_count": 55,
     "metadata": {},
     "output_type": "execute_result"
    }
   ],
   "source": [
    "data.groupby(['weekday','risk_label']).size()\\\n",
    ".unstack('risk_label')\\\n",
    ".apply(lambda row:row/row.sum(), axis=1)\n"
   ]
  },
  {
   "cell_type": "code",
   "execution_count": 18,
   "metadata": {},
   "outputs": [
    {
     "data": {
      "text/plain": [
       "<matplotlib.axes._subplots.AxesSubplot at 0x29b883a2348>"
      ]
     },
     "execution_count": 18,
     "metadata": {},
     "output_type": "execute_result"
    },
    {
     "data": {
      "image/png": "[encoded data removed]",
      "text/plain": [
       "<Figure size 432x288 with 1 Axes>"
      ]
     },
     "metadata": {
      "needs_background": "light"
     },
     "output_type": "display_data"
    }
   ],
   "source": [
    "# 风险和小时的关系\n",
    "hour_risk = data.groupby('hour')['risk_label'].sum()\n",
    "sns.barplot(hour_risk.index, hour_risk.values)"
   ]
  },
  {
   "cell_type": "code",
   "execution_count": 54,
   "metadata": {},
   "outputs": [
    {
     "data": {
      "text/html": [
       "<div>\n",
       "<style scoped>\n",
       "    .dataframe tbody tr th:only-of-type {\n",
       "        vertical-align: middle;\n",
       "    }\n",
       "\n",
       "    .dataframe tbody tr th {\n",
       "        vertical-align: top;\n",
       "    }\n",
       "\n",
       "    .dataframe thead th {\n",
       "        text-align: right;\n",
       "    }\n",
       "</style>\n",
       "<table border=\"1\" class=\"dataframe\">\n",
       "  <thead>\n",
       "    <tr style=\"text-align: right;\">\n",
       "      <th>risk_label</th>\n",
       "      <th>0</th>\n",
       "      <th>1</th>\n",
       "    </tr>\n",
       "    <tr>\n",
       "      <th>hour</th>\n",
       "      <th></th>\n",
       "      <th></th>\n",
       "    </tr>\n",
       "  </thead>\n",
       "  <tbody>\n",
       "    <tr>\n",
       "      <td>9</td>\n",
       "      <td>0.805447</td>\n",
       "      <td>0.194553</td>\n",
       "    </tr>\n",
       "    <tr>\n",
       "      <td>10</td>\n",
       "      <td>0.811528</td>\n",
       "      <td>0.188472</td>\n",
       "    </tr>\n",
       "    <tr>\n",
       "      <td>11</td>\n",
       "      <td>0.797794</td>\n",
       "      <td>0.202206</td>\n",
       "    </tr>\n",
       "    <tr>\n",
       "      <td>12</td>\n",
       "      <td>0.802054</td>\n",
       "      <td>0.197946</td>\n",
       "    </tr>\n",
       "    <tr>\n",
       "      <td>13</td>\n",
       "      <td>0.792934</td>\n",
       "      <td>0.207066</td>\n",
       "    </tr>\n",
       "    <tr>\n",
       "      <td>14</td>\n",
       "      <td>0.792118</td>\n",
       "      <td>0.207882</td>\n",
       "    </tr>\n",
       "    <tr>\n",
       "      <td>15</td>\n",
       "      <td>0.813218</td>\n",
       "      <td>0.186782</td>\n",
       "    </tr>\n",
       "    <tr>\n",
       "      <td>16</td>\n",
       "      <td>0.818357</td>\n",
       "      <td>0.181643</td>\n",
       "    </tr>\n",
       "    <tr>\n",
       "      <td>17</td>\n",
       "      <td>0.794684</td>\n",
       "      <td>0.205316</td>\n",
       "    </tr>\n",
       "    <tr>\n",
       "      <td>18</td>\n",
       "      <td>0.819209</td>\n",
       "      <td>0.180791</td>\n",
       "    </tr>\n",
       "    <tr>\n",
       "      <td>19</td>\n",
       "      <td>0.792741</td>\n",
       "      <td>0.207259</td>\n",
       "    </tr>\n",
       "    <tr>\n",
       "      <td>20</td>\n",
       "      <td>0.816000</td>\n",
       "      <td>0.184000</td>\n",
       "    </tr>\n",
       "    <tr>\n",
       "      <td>21</td>\n",
       "      <td>0.796626</td>\n",
       "      <td>0.203374</td>\n",
       "    </tr>\n",
       "    <tr>\n",
       "      <td>22</td>\n",
       "      <td>0.813102</td>\n",
       "      <td>0.186898</td>\n",
       "    </tr>\n",
       "    <tr>\n",
       "      <td>23</td>\n",
       "      <td>0.761658</td>\n",
       "      <td>0.238342</td>\n",
       "    </tr>\n",
       "  </tbody>\n",
       "</table>\n",
       "</div>"
      ],
      "text/plain": [
       "risk_label         0         1\n",
       "hour                          \n",
       "9           0.805447  0.194553\n",
       "10          0.811528  0.188472\n",
       "11          0.797794  0.202206\n",
       "12          0.802054  0.197946\n",
       "13          0.792934  0.207066\n",
       "14          0.792118  0.207882\n",
       "15          0.813218  0.186782\n",
       "16          0.818357  0.181643\n",
       "17          0.794684  0.205316\n",
       "18          0.819209  0.180791\n",
       "19          0.792741  0.207259\n",
       "20          0.816000  0.184000\n",
       "21          0.796626  0.203374\n",
       "22          0.813102  0.186898\n",
       "23          0.761658  0.238342"
      ]
     },
     "execution_count": 54,
     "metadata": {},
     "output_type": "execute_result"
    }
   ],
   "source": [
    "data.groupby(['hour','risk_label']).size()\\\n",
    ".unstack('risk_label')\\\n",
    ".apply(lambda row:row/row.sum(), axis=1)\n"
   ]
  },
  {
   "cell_type": "code",
   "execution_count": 31,
   "metadata": {},
   "outputs": [
    {
     "data": {
      "text/plain": [
       "<matplotlib.axes._subplots.AxesSubplot at 0x29b8a44b688>"
      ]
     },
     "execution_count": 31,
     "metadata": {},
     "output_type": "execute_result"
    },
    {
     "data": {
      "image/png": "[encoded data removed]",
      "text/plain": [
       "<Figure size 1440x720 with 1 Axes>"
      ]
     },
     "metadata": {
      "needs_background": "light"
     },
     "output_type": "display_data"
    }
   ],
   "source": [
    "# 风险和分钟的关系\n",
    "plt.figure(figsize=(20,10))\n",
    "minute_risk = data.groupby('minute')['risk_label'].sum()\n",
    "sns.barplot(y=minute_risk.values, x=minute_risk.index, orient='b')\n",
    "# plt.barh(minute_risk.index, minute_risk.values)"
   ]
  },
  {
   "cell_type": "code",
   "execution_count": 53,
   "metadata": {},
   "outputs": [
    {
     "data": {
      "text/html": [
       "<div>\n",
       "<style scoped>\n",
       "    .dataframe tbody tr th:only-of-type {\n",
       "        vertical-align: middle;\n",
       "    }\n",
       "\n",
       "    .dataframe tbody tr th {\n",
       "        vertical-align: top;\n",
       "    }\n",
       "\n",
       "    .dataframe thead th {\n",
       "        text-align: right;\n",
       "    }\n",
       "</style>\n",
       "<table border=\"1\" class=\"dataframe\">\n",
       "  <thead>\n",
       "    <tr style=\"text-align: right;\">\n",
       "      <th>risk_label</th>\n",
       "      <th>0</th>\n",
       "      <th>1</th>\n",
       "    </tr>\n",
       "    <tr>\n",
       "      <th>minute</th>\n",
       "      <th></th>\n",
       "      <th></th>\n",
       "    </tr>\n",
       "  </thead>\n",
       "  <tbody>\n",
       "    <tr>\n",
       "      <td>0</td>\n",
       "      <td>0.800813</td>\n",
       "      <td>0.199187</td>\n",
       "    </tr>\n",
       "    <tr>\n",
       "      <td>1</td>\n",
       "      <td>0.809917</td>\n",
       "      <td>0.190083</td>\n",
       "    </tr>\n",
       "    <tr>\n",
       "      <td>2</td>\n",
       "      <td>0.815261</td>\n",
       "      <td>0.184739</td>\n",
       "    </tr>\n",
       "    <tr>\n",
       "      <td>3</td>\n",
       "      <td>0.823755</td>\n",
       "      <td>0.176245</td>\n",
       "    </tr>\n",
       "    <tr>\n",
       "      <td>4</td>\n",
       "      <td>0.778182</td>\n",
       "      <td>0.221818</td>\n",
       "    </tr>\n",
       "    <tr>\n",
       "      <td>5</td>\n",
       "      <td>0.788235</td>\n",
       "      <td>0.211765</td>\n",
       "    </tr>\n",
       "    <tr>\n",
       "      <td>6</td>\n",
       "      <td>0.850806</td>\n",
       "      <td>0.149194</td>\n",
       "    </tr>\n",
       "    <tr>\n",
       "      <td>7</td>\n",
       "      <td>0.781022</td>\n",
       "      <td>0.218978</td>\n",
       "    </tr>\n",
       "    <tr>\n",
       "      <td>8</td>\n",
       "      <td>0.809886</td>\n",
       "      <td>0.190114</td>\n",
       "    </tr>\n",
       "    <tr>\n",
       "      <td>9</td>\n",
       "      <td>0.790123</td>\n",
       "      <td>0.209877</td>\n",
       "    </tr>\n",
       "    <tr>\n",
       "      <td>10</td>\n",
       "      <td>0.840164</td>\n",
       "      <td>0.159836</td>\n",
       "    </tr>\n",
       "    <tr>\n",
       "      <td>11</td>\n",
       "      <td>0.844262</td>\n",
       "      <td>0.155738</td>\n",
       "    </tr>\n",
       "    <tr>\n",
       "      <td>12</td>\n",
       "      <td>0.799283</td>\n",
       "      <td>0.200717</td>\n",
       "    </tr>\n",
       "    <tr>\n",
       "      <td>13</td>\n",
       "      <td>0.818182</td>\n",
       "      <td>0.181818</td>\n",
       "    </tr>\n",
       "    <tr>\n",
       "      <td>14</td>\n",
       "      <td>0.775281</td>\n",
       "      <td>0.224719</td>\n",
       "    </tr>\n",
       "    <tr>\n",
       "      <td>15</td>\n",
       "      <td>0.774319</td>\n",
       "      <td>0.225681</td>\n",
       "    </tr>\n",
       "    <tr>\n",
       "      <td>16</td>\n",
       "      <td>0.829710</td>\n",
       "      <td>0.170290</td>\n",
       "    </tr>\n",
       "    <tr>\n",
       "      <td>17</td>\n",
       "      <td>0.806452</td>\n",
       "      <td>0.193548</td>\n",
       "    </tr>\n",
       "    <tr>\n",
       "      <td>18</td>\n",
       "      <td>0.821678</td>\n",
       "      <td>0.178322</td>\n",
       "    </tr>\n",
       "    <tr>\n",
       "      <td>19</td>\n",
       "      <td>0.794574</td>\n",
       "      <td>0.205426</td>\n",
       "    </tr>\n",
       "    <tr>\n",
       "      <td>20</td>\n",
       "      <td>0.838710</td>\n",
       "      <td>0.161290</td>\n",
       "    </tr>\n",
       "    <tr>\n",
       "      <td>21</td>\n",
       "      <td>0.810345</td>\n",
       "      <td>0.189655</td>\n",
       "    </tr>\n",
       "    <tr>\n",
       "      <td>22</td>\n",
       "      <td>0.730942</td>\n",
       "      <td>0.269058</td>\n",
       "    </tr>\n",
       "    <tr>\n",
       "      <td>23</td>\n",
       "      <td>0.784000</td>\n",
       "      <td>0.216000</td>\n",
       "    </tr>\n",
       "    <tr>\n",
       "      <td>24</td>\n",
       "      <td>0.818930</td>\n",
       "      <td>0.181070</td>\n",
       "    </tr>\n",
       "    <tr>\n",
       "      <td>25</td>\n",
       "      <td>0.769841</td>\n",
       "      <td>0.230159</td>\n",
       "    </tr>\n",
       "    <tr>\n",
       "      <td>26</td>\n",
       "      <td>0.819444</td>\n",
       "      <td>0.180556</td>\n",
       "    </tr>\n",
       "    <tr>\n",
       "      <td>27</td>\n",
       "      <td>0.785714</td>\n",
       "      <td>0.214286</td>\n",
       "    </tr>\n",
       "    <tr>\n",
       "      <td>28</td>\n",
       "      <td>0.803774</td>\n",
       "      <td>0.196226</td>\n",
       "    </tr>\n",
       "    <tr>\n",
       "      <td>29</td>\n",
       "      <td>0.785714</td>\n",
       "      <td>0.214286</td>\n",
       "    </tr>\n",
       "    <tr>\n",
       "      <td>30</td>\n",
       "      <td>0.787330</td>\n",
       "      <td>0.212670</td>\n",
       "    </tr>\n",
       "    <tr>\n",
       "      <td>31</td>\n",
       "      <td>0.814229</td>\n",
       "      <td>0.185771</td>\n",
       "    </tr>\n",
       "    <tr>\n",
       "      <td>32</td>\n",
       "      <td>0.752852</td>\n",
       "      <td>0.247148</td>\n",
       "    </tr>\n",
       "    <tr>\n",
       "      <td>33</td>\n",
       "      <td>0.791971</td>\n",
       "      <td>0.208029</td>\n",
       "    </tr>\n",
       "    <tr>\n",
       "      <td>34</td>\n",
       "      <td>0.785714</td>\n",
       "      <td>0.214286</td>\n",
       "    </tr>\n",
       "    <tr>\n",
       "      <td>35</td>\n",
       "      <td>0.764045</td>\n",
       "      <td>0.235955</td>\n",
       "    </tr>\n",
       "    <tr>\n",
       "      <td>36</td>\n",
       "      <td>0.810924</td>\n",
       "      <td>0.189076</td>\n",
       "    </tr>\n",
       "    <tr>\n",
       "      <td>37</td>\n",
       "      <td>0.843621</td>\n",
       "      <td>0.156379</td>\n",
       "    </tr>\n",
       "    <tr>\n",
       "      <td>38</td>\n",
       "      <td>0.774510</td>\n",
       "      <td>0.225490</td>\n",
       "    </tr>\n",
       "    <tr>\n",
       "      <td>39</td>\n",
       "      <td>0.740586</td>\n",
       "      <td>0.259414</td>\n",
       "    </tr>\n",
       "    <tr>\n",
       "      <td>40</td>\n",
       "      <td>0.795833</td>\n",
       "      <td>0.204167</td>\n",
       "    </tr>\n",
       "    <tr>\n",
       "      <td>41</td>\n",
       "      <td>0.830508</td>\n",
       "      <td>0.169492</td>\n",
       "    </tr>\n",
       "    <tr>\n",
       "      <td>42</td>\n",
       "      <td>0.802920</td>\n",
       "      <td>0.197080</td>\n",
       "    </tr>\n",
       "    <tr>\n",
       "      <td>43</td>\n",
       "      <td>0.822222</td>\n",
       "      <td>0.177778</td>\n",
       "    </tr>\n",
       "    <tr>\n",
       "      <td>44</td>\n",
       "      <td>0.814672</td>\n",
       "      <td>0.185328</td>\n",
       "    </tr>\n",
       "    <tr>\n",
       "      <td>45</td>\n",
       "      <td>0.833962</td>\n",
       "      <td>0.166038</td>\n",
       "    </tr>\n",
       "    <tr>\n",
       "      <td>46</td>\n",
       "      <td>0.803030</td>\n",
       "      <td>0.196970</td>\n",
       "    </tr>\n",
       "    <tr>\n",
       "      <td>47</td>\n",
       "      <td>0.814961</td>\n",
       "      <td>0.185039</td>\n",
       "    </tr>\n",
       "    <tr>\n",
       "      <td>48</td>\n",
       "      <td>0.837302</td>\n",
       "      <td>0.162698</td>\n",
       "    </tr>\n",
       "    <tr>\n",
       "      <td>49</td>\n",
       "      <td>0.805556</td>\n",
       "      <td>0.194444</td>\n",
       "    </tr>\n",
       "    <tr>\n",
       "      <td>50</td>\n",
       "      <td>0.836502</td>\n",
       "      <td>0.163498</td>\n",
       "    </tr>\n",
       "    <tr>\n",
       "      <td>51</td>\n",
       "      <td>0.825203</td>\n",
       "      <td>0.174797</td>\n",
       "    </tr>\n",
       "    <tr>\n",
       "      <td>52</td>\n",
       "      <td>0.805556</td>\n",
       "      <td>0.194444</td>\n",
       "    </tr>\n",
       "    <tr>\n",
       "      <td>53</td>\n",
       "      <td>0.808163</td>\n",
       "      <td>0.191837</td>\n",
       "    </tr>\n",
       "    <tr>\n",
       "      <td>54</td>\n",
       "      <td>0.781116</td>\n",
       "      <td>0.218884</td>\n",
       "    </tr>\n",
       "    <tr>\n",
       "      <td>55</td>\n",
       "      <td>0.802721</td>\n",
       "      <td>0.197279</td>\n",
       "    </tr>\n",
       "    <tr>\n",
       "      <td>56</td>\n",
       "      <td>0.755274</td>\n",
       "      <td>0.244726</td>\n",
       "    </tr>\n",
       "    <tr>\n",
       "      <td>57</td>\n",
       "      <td>0.819231</td>\n",
       "      <td>0.180769</td>\n",
       "    </tr>\n",
       "    <tr>\n",
       "      <td>58</td>\n",
       "      <td>0.844358</td>\n",
       "      <td>0.155642</td>\n",
       "    </tr>\n",
       "    <tr>\n",
       "      <td>59</td>\n",
       "      <td>0.841004</td>\n",
       "      <td>0.158996</td>\n",
       "    </tr>\n",
       "  </tbody>\n",
       "</table>\n",
       "</div>"
      ],
      "text/plain": [
       "risk_label         0         1\n",
       "minute                        \n",
       "0           0.800813  0.199187\n",
       "1           0.809917  0.190083\n",
       "2           0.815261  0.184739\n",
       "3           0.823755  0.176245\n",
       "4           0.778182  0.221818\n",
       "5           0.788235  0.211765\n",
       "6           0.850806  0.149194\n",
       "7           0.781022  0.218978\n",
       "8           0.809886  0.190114\n",
       "9           0.790123  0.209877\n",
       "10          0.840164  0.159836\n",
       "11          0.844262  0.155738\n",
       "12          0.799283  0.200717\n",
       "13          0.818182  0.181818\n",
       "14          0.775281  0.224719\n",
       "15          0.774319  0.225681\n",
       "16          0.829710  0.170290\n",
       "17          0.806452  0.193548\n",
       "18          0.821678  0.178322\n",
       "19          0.794574  0.205426\n",
       "20          0.838710  0.161290\n",
       "21          0.810345  0.189655\n",
       "22          0.730942  0.269058\n",
       "23          0.784000  0.216000\n",
       "24          0.818930  0.181070\n",
       "25          0.769841  0.230159\n",
       "26          0.819444  0.180556\n",
       "27          0.785714  0.214286\n",
       "28          0.803774  0.196226\n",
       "29          0.785714  0.214286\n",
       "30          0.787330  0.212670\n",
       "31          0.814229  0.185771\n",
       "32          0.752852  0.247148\n",
       "33          0.791971  0.208029\n",
       "34          0.785714  0.214286\n",
       "35          0.764045  0.235955\n",
       "36          0.810924  0.189076\n",
       "37          0.843621  0.156379\n",
       "38          0.774510  0.225490\n",
       "39          0.740586  0.259414\n",
       "40          0.795833  0.204167\n",
       "41          0.830508  0.169492\n",
       "42          0.802920  0.197080\n",
       "43          0.822222  0.177778\n",
       "44          0.814672  0.185328\n",
       "45          0.833962  0.166038\n",
       "46          0.803030  0.196970\n",
       "47          0.814961  0.185039\n",
       "48          0.837302  0.162698\n",
       "49          0.805556  0.194444\n",
       "50          0.836502  0.163498\n",
       "51          0.825203  0.174797\n",
       "52          0.805556  0.194444\n",
       "53          0.808163  0.191837\n",
       "54          0.781116  0.218884\n",
       "55          0.802721  0.197279\n",
       "56          0.755274  0.244726\n",
       "57          0.819231  0.180769\n",
       "58          0.844358  0.155642\n",
       "59          0.841004  0.158996"
      ]
     },
     "execution_count": 53,
     "metadata": {},
     "output_type": "execute_result"
    }
   ],
   "source": [
    "data.groupby(['minute','risk_label']).size()\\\n",
    ".unstack('risk_label')\\\n",
    ".apply(lambda row:row/row.sum(), axis=1)\n"
   ]
  },
  {
   "cell_type": "code",
   "execution_count": 16,
   "metadata": {},
   "outputs": [
    {
     "data": {
      "text/plain": [
       "0    12076\n",
       "1     2940\n",
       "Name: risk_label, dtype: int64"
      ]
     },
     "execution_count": 16,
     "metadata": {},
     "output_type": "execute_result"
    }
   ],
   "source": [
    "# 风险是12076，非风险是2940，比例大约是4：1\n",
    "data['risk_label'].value_counts()"
   ]
  },
  {
   "cell_type": "code",
   "execution_count": 40,
   "metadata": {},
   "outputs": [
    {
     "data": {
      "text/plain": [
       "<matplotlib.axes._subplots.AxesSubplot at 0x221d55e7808>"
      ]
     },
     "execution_count": 40,
     "metadata": {},
     "output_type": "execute_result"
    },
    {
     "data": {
      "image/png": "[encoded data removed]",
      "text/plain": [
       "<Figure size 1440x720 with 1 Axes>"
      ]
     },
     "metadata": {
      "needs_background": "light"
     },
     "output_type": "display_data"
    }
   ],
   "source": [
    "# 风险和秒的关系\n",
    "plt.figure(figsize=(20,10))\n",
    "minute_risk = data.groupby('second')['risk_label'].sum()\n",
    "sns.barplot(y=minute_risk.values, x=minute_risk.index, orient='b')"
   ]
  },
  {
   "cell_type": "code",
   "execution_count": 41,
   "metadata": {},
   "outputs": [
    {
     "data": {
      "text/html": [
       "<div>\n",
       "<style scoped>\n",
       "    .dataframe tbody tr th:only-of-type {\n",
       "        vertical-align: middle;\n",
       "    }\n",
       "\n",
       "    .dataframe tbody tr th {\n",
       "        vertical-align: top;\n",
       "    }\n",
       "\n",
       "    .dataframe thead th {\n",
       "        text-align: right;\n",
       "    }\n",
       "</style>\n",
       "<table border=\"1\" class=\"dataframe\">\n",
       "  <thead>\n",
       "    <tr style=\"text-align: right;\">\n",
       "      <th>risk_label</th>\n",
       "      <th>0</th>\n",
       "      <th>1</th>\n",
       "    </tr>\n",
       "    <tr>\n",
       "      <th>second</th>\n",
       "      <th></th>\n",
       "      <th></th>\n",
       "    </tr>\n",
       "  </thead>\n",
       "  <tbody>\n",
       "    <tr>\n",
       "      <td>0</td>\n",
       "      <td>0.779116</td>\n",
       "      <td>0.220884</td>\n",
       "    </tr>\n",
       "    <tr>\n",
       "      <td>1</td>\n",
       "      <td>0.819328</td>\n",
       "      <td>0.180672</td>\n",
       "    </tr>\n",
       "    <tr>\n",
       "      <td>2</td>\n",
       "      <td>0.779468</td>\n",
       "      <td>0.220532</td>\n",
       "    </tr>\n",
       "    <tr>\n",
       "      <td>3</td>\n",
       "      <td>0.782427</td>\n",
       "      <td>0.217573</td>\n",
       "    </tr>\n",
       "    <tr>\n",
       "      <td>4</td>\n",
       "      <td>0.769231</td>\n",
       "      <td>0.230769</td>\n",
       "    </tr>\n",
       "    <tr>\n",
       "      <td>5</td>\n",
       "      <td>0.808989</td>\n",
       "      <td>0.191011</td>\n",
       "    </tr>\n",
       "    <tr>\n",
       "      <td>6</td>\n",
       "      <td>0.780392</td>\n",
       "      <td>0.219608</td>\n",
       "    </tr>\n",
       "    <tr>\n",
       "      <td>7</td>\n",
       "      <td>0.812030</td>\n",
       "      <td>0.187970</td>\n",
       "    </tr>\n",
       "    <tr>\n",
       "      <td>8</td>\n",
       "      <td>0.810127</td>\n",
       "      <td>0.189873</td>\n",
       "    </tr>\n",
       "    <tr>\n",
       "      <td>9</td>\n",
       "      <td>0.802239</td>\n",
       "      <td>0.197761</td>\n",
       "    </tr>\n",
       "    <tr>\n",
       "      <td>10</td>\n",
       "      <td>0.785408</td>\n",
       "      <td>0.214592</td>\n",
       "    </tr>\n",
       "    <tr>\n",
       "      <td>11</td>\n",
       "      <td>0.822835</td>\n",
       "      <td>0.177165</td>\n",
       "    </tr>\n",
       "    <tr>\n",
       "      <td>12</td>\n",
       "      <td>0.771689</td>\n",
       "      <td>0.228311</td>\n",
       "    </tr>\n",
       "    <tr>\n",
       "      <td>13</td>\n",
       "      <td>0.776860</td>\n",
       "      <td>0.223140</td>\n",
       "    </tr>\n",
       "    <tr>\n",
       "      <td>14</td>\n",
       "      <td>0.841509</td>\n",
       "      <td>0.158491</td>\n",
       "    </tr>\n",
       "    <tr>\n",
       "      <td>15</td>\n",
       "      <td>0.845794</td>\n",
       "      <td>0.154206</td>\n",
       "    </tr>\n",
       "    <tr>\n",
       "      <td>16</td>\n",
       "      <td>0.810811</td>\n",
       "      <td>0.189189</td>\n",
       "    </tr>\n",
       "    <tr>\n",
       "      <td>17</td>\n",
       "      <td>0.776000</td>\n",
       "      <td>0.224000</td>\n",
       "    </tr>\n",
       "    <tr>\n",
       "      <td>18</td>\n",
       "      <td>0.786290</td>\n",
       "      <td>0.213710</td>\n",
       "    </tr>\n",
       "    <tr>\n",
       "      <td>19</td>\n",
       "      <td>0.794979</td>\n",
       "      <td>0.205021</td>\n",
       "    </tr>\n",
       "    <tr>\n",
       "      <td>20</td>\n",
       "      <td>0.796610</td>\n",
       "      <td>0.203390</td>\n",
       "    </tr>\n",
       "    <tr>\n",
       "      <td>21</td>\n",
       "      <td>0.841897</td>\n",
       "      <td>0.158103</td>\n",
       "    </tr>\n",
       "    <tr>\n",
       "      <td>22</td>\n",
       "      <td>0.805344</td>\n",
       "      <td>0.194656</td>\n",
       "    </tr>\n",
       "    <tr>\n",
       "      <td>23</td>\n",
       "      <td>0.760000</td>\n",
       "      <td>0.240000</td>\n",
       "    </tr>\n",
       "    <tr>\n",
       "      <td>24</td>\n",
       "      <td>0.760000</td>\n",
       "      <td>0.240000</td>\n",
       "    </tr>\n",
       "    <tr>\n",
       "      <td>25</td>\n",
       "      <td>0.834646</td>\n",
       "      <td>0.165354</td>\n",
       "    </tr>\n",
       "    <tr>\n",
       "      <td>26</td>\n",
       "      <td>0.799127</td>\n",
       "      <td>0.200873</td>\n",
       "    </tr>\n",
       "    <tr>\n",
       "      <td>27</td>\n",
       "      <td>0.779070</td>\n",
       "      <td>0.220930</td>\n",
       "    </tr>\n",
       "    <tr>\n",
       "      <td>28</td>\n",
       "      <td>0.789062</td>\n",
       "      <td>0.210938</td>\n",
       "    </tr>\n",
       "    <tr>\n",
       "      <td>29</td>\n",
       "      <td>0.782609</td>\n",
       "      <td>0.217391</td>\n",
       "    </tr>\n",
       "    <tr>\n",
       "      <td>30</td>\n",
       "      <td>0.850000</td>\n",
       "      <td>0.150000</td>\n",
       "    </tr>\n",
       "    <tr>\n",
       "      <td>31</td>\n",
       "      <td>0.836134</td>\n",
       "      <td>0.163866</td>\n",
       "    </tr>\n",
       "    <tr>\n",
       "      <td>32</td>\n",
       "      <td>0.789474</td>\n",
       "      <td>0.210526</td>\n",
       "    </tr>\n",
       "    <tr>\n",
       "      <td>33</td>\n",
       "      <td>0.825397</td>\n",
       "      <td>0.174603</td>\n",
       "    </tr>\n",
       "    <tr>\n",
       "      <td>34</td>\n",
       "      <td>0.792373</td>\n",
       "      <td>0.207627</td>\n",
       "    </tr>\n",
       "    <tr>\n",
       "      <td>35</td>\n",
       "      <td>0.826923</td>\n",
       "      <td>0.173077</td>\n",
       "    </tr>\n",
       "    <tr>\n",
       "      <td>36</td>\n",
       "      <td>0.817869</td>\n",
       "      <td>0.182131</td>\n",
       "    </tr>\n",
       "    <tr>\n",
       "      <td>37</td>\n",
       "      <td>0.793893</td>\n",
       "      <td>0.206107</td>\n",
       "    </tr>\n",
       "    <tr>\n",
       "      <td>38</td>\n",
       "      <td>0.797665</td>\n",
       "      <td>0.202335</td>\n",
       "    </tr>\n",
       "    <tr>\n",
       "      <td>39</td>\n",
       "      <td>0.814346</td>\n",
       "      <td>0.185654</td>\n",
       "    </tr>\n",
       "    <tr>\n",
       "      <td>40</td>\n",
       "      <td>0.787546</td>\n",
       "      <td>0.212454</td>\n",
       "    </tr>\n",
       "    <tr>\n",
       "      <td>41</td>\n",
       "      <td>0.840467</td>\n",
       "      <td>0.159533</td>\n",
       "    </tr>\n",
       "    <tr>\n",
       "      <td>42</td>\n",
       "      <td>0.837398</td>\n",
       "      <td>0.162602</td>\n",
       "    </tr>\n",
       "    <tr>\n",
       "      <td>43</td>\n",
       "      <td>0.768293</td>\n",
       "      <td>0.231707</td>\n",
       "    </tr>\n",
       "    <tr>\n",
       "      <td>44</td>\n",
       "      <td>0.823045</td>\n",
       "      <td>0.176955</td>\n",
       "    </tr>\n",
       "    <tr>\n",
       "      <td>45</td>\n",
       "      <td>0.830769</td>\n",
       "      <td>0.169231</td>\n",
       "    </tr>\n",
       "    <tr>\n",
       "      <td>46</td>\n",
       "      <td>0.794355</td>\n",
       "      <td>0.205645</td>\n",
       "    </tr>\n",
       "    <tr>\n",
       "      <td>47</td>\n",
       "      <td>0.767273</td>\n",
       "      <td>0.232727</td>\n",
       "    </tr>\n",
       "    <tr>\n",
       "      <td>48</td>\n",
       "      <td>0.839080</td>\n",
       "      <td>0.160920</td>\n",
       "    </tr>\n",
       "    <tr>\n",
       "      <td>49</td>\n",
       "      <td>0.800000</td>\n",
       "      <td>0.200000</td>\n",
       "    </tr>\n",
       "    <tr>\n",
       "      <td>50</td>\n",
       "      <td>0.830986</td>\n",
       "      <td>0.169014</td>\n",
       "    </tr>\n",
       "    <tr>\n",
       "      <td>51</td>\n",
       "      <td>0.820628</td>\n",
       "      <td>0.179372</td>\n",
       "    </tr>\n",
       "    <tr>\n",
       "      <td>52</td>\n",
       "      <td>0.807377</td>\n",
       "      <td>0.192623</td>\n",
       "    </tr>\n",
       "    <tr>\n",
       "      <td>53</td>\n",
       "      <td>0.794872</td>\n",
       "      <td>0.205128</td>\n",
       "    </tr>\n",
       "    <tr>\n",
       "      <td>54</td>\n",
       "      <td>0.839858</td>\n",
       "      <td>0.160142</td>\n",
       "    </tr>\n",
       "    <tr>\n",
       "      <td>55</td>\n",
       "      <td>0.833333</td>\n",
       "      <td>0.166667</td>\n",
       "    </tr>\n",
       "    <tr>\n",
       "      <td>56</td>\n",
       "      <td>0.777311</td>\n",
       "      <td>0.222689</td>\n",
       "    </tr>\n",
       "    <tr>\n",
       "      <td>57</td>\n",
       "      <td>0.813043</td>\n",
       "      <td>0.186957</td>\n",
       "    </tr>\n",
       "    <tr>\n",
       "      <td>58</td>\n",
       "      <td>0.802974</td>\n",
       "      <td>0.197026</td>\n",
       "    </tr>\n",
       "    <tr>\n",
       "      <td>59</td>\n",
       "      <td>0.790698</td>\n",
       "      <td>0.209302</td>\n",
       "    </tr>\n",
       "  </tbody>\n",
       "</table>\n",
       "</div>"
      ],
      "text/plain": [
       "risk_label         0         1\n",
       "second                        \n",
       "0           0.779116  0.220884\n",
       "1           0.819328  0.180672\n",
       "2           0.779468  0.220532\n",
       "3           0.782427  0.217573\n",
       "4           0.769231  0.230769\n",
       "5           0.808989  0.191011\n",
       "6           0.780392  0.219608\n",
       "7           0.812030  0.187970\n",
       "8           0.810127  0.189873\n",
       "9           0.802239  0.197761\n",
       "10          0.785408  0.214592\n",
       "11          0.822835  0.177165\n",
       "12          0.771689  0.228311\n",
       "13          0.776860  0.223140\n",
       "14          0.841509  0.158491\n",
       "15          0.845794  0.154206\n",
       "16          0.810811  0.189189\n",
       "17          0.776000  0.224000\n",
       "18          0.786290  0.213710\n",
       "19          0.794979  0.205021\n",
       "20          0.796610  0.203390\n",
       "21          0.841897  0.158103\n",
       "22          0.805344  0.194656\n",
       "23          0.760000  0.240000\n",
       "24          0.760000  0.240000\n",
       "25          0.834646  0.165354\n",
       "26          0.799127  0.200873\n",
       "27          0.779070  0.220930\n",
       "28          0.789062  0.210938\n",
       "29          0.782609  0.217391\n",
       "30          0.850000  0.150000\n",
       "31          0.836134  0.163866\n",
       "32          0.789474  0.210526\n",
       "33          0.825397  0.174603\n",
       "34          0.792373  0.207627\n",
       "35          0.826923  0.173077\n",
       "36          0.817869  0.182131\n",
       "37          0.793893  0.206107\n",
       "38          0.797665  0.202335\n",
       "39          0.814346  0.185654\n",
       "40          0.787546  0.212454\n",
       "41          0.840467  0.159533\n",
       "42          0.837398  0.162602\n",
       "43          0.768293  0.231707\n",
       "44          0.823045  0.176955\n",
       "45          0.830769  0.169231\n",
       "46          0.794355  0.205645\n",
       "47          0.767273  0.232727\n",
       "48          0.839080  0.160920\n",
       "49          0.800000  0.200000\n",
       "50          0.830986  0.169014\n",
       "51          0.820628  0.179372\n",
       "52          0.807377  0.192623\n",
       "53          0.794872  0.205128\n",
       "54          0.839858  0.160142\n",
       "55          0.833333  0.166667\n",
       "56          0.777311  0.222689\n",
       "57          0.813043  0.186957\n",
       "58          0.802974  0.197026\n",
       "59          0.790698  0.209302"
      ]
     },
     "execution_count": 41,
     "metadata": {},
     "output_type": "execute_result"
    }
   ],
   "source": [
    "data.groupby(['second','risk_label']).size()\\\n",
    ".unstack('risk_label')\\\n",
    ".apply(lambda row:row/row.sum(), axis=1)\n"
   ]
  },
  {
   "cell_type": "code",
   "execution_count": 77,
   "metadata": {},
   "outputs": [
    {
     "data": {
      "text/plain": [
       "<matplotlib.axes._subplots.AxesSubplot at 0x29b91bf3408>"
      ]
     },
     "execution_count": 77,
     "metadata": {},
     "output_type": "execute_result"
    },
    {
     "data": {
      "image/png": "[encoded data removed]",
      "text/plain": [
       "<Figure size 432x288 with 1 Axes>"
      ]
     },
     "metadata": {
      "needs_background": "light"
     },
     "output_type": "display_data"
    }
   ],
   "source": [
    "# 风险和首次认证方式关系 1 : pwd 2 : sms 3 : otp 4 : qr\n",
    "auth_type_risk = data.groupby('auth_type')['risk_label'].sum()\n",
    "sns.barplot(auth_type_risk.index, auth_type_risk.values)"
   ]
  },
  {
   "cell_type": "code",
   "execution_count": 76,
   "metadata": {},
   "outputs": [
    {
     "data": {
      "text/html": [
       "<div>\n",
       "<style scoped>\n",
       "    .dataframe tbody tr th:only-of-type {\n",
       "        vertical-align: middle;\n",
       "    }\n",
       "\n",
       "    .dataframe tbody tr th {\n",
       "        vertical-align: top;\n",
       "    }\n",
       "\n",
       "    .dataframe thead th {\n",
       "        text-align: right;\n",
       "    }\n",
       "</style>\n",
       "<table border=\"1\" class=\"dataframe\">\n",
       "  <thead>\n",
       "    <tr style=\"text-align: right;\">\n",
       "      <th>risk_label</th>\n",
       "      <th>0</th>\n",
       "      <th>1</th>\n",
       "    </tr>\n",
       "    <tr>\n",
       "      <th>auth_type</th>\n",
       "      <th></th>\n",
       "      <th></th>\n",
       "    </tr>\n",
       "  </thead>\n",
       "  <tbody>\n",
       "    <tr>\n",
       "      <td>otp</td>\n",
       "      <td>0.803212</td>\n",
       "      <td>0.196788</td>\n",
       "    </tr>\n",
       "    <tr>\n",
       "      <td>pwd</td>\n",
       "      <td>0.807315</td>\n",
       "      <td>0.192685</td>\n",
       "    </tr>\n",
       "    <tr>\n",
       "      <td>qr</td>\n",
       "      <td>0.806535</td>\n",
       "      <td>0.193465</td>\n",
       "    </tr>\n",
       "    <tr>\n",
       "      <td>sms</td>\n",
       "      <td>0.799565</td>\n",
       "      <td>0.200435</td>\n",
       "    </tr>\n",
       "  </tbody>\n",
       "</table>\n",
       "</div>"
      ],
      "text/plain": [
       "risk_label         0         1\n",
       "auth_type                     \n",
       "otp         0.803212  0.196788\n",
       "pwd         0.807315  0.192685\n",
       "qr          0.806535  0.193465\n",
       "sms         0.799565  0.200435"
      ]
     },
     "execution_count": 76,
     "metadata": {},
     "output_type": "execute_result"
    }
   ],
   "source": [
    "data.groupby(['auth_type','risk_label']).size()\\\n",
    ".unstack('risk_label')\\\n",
    ".apply(lambda row:row/row.sum(), axis=1)\n"
   ]
  },
  {
   "cell_type": "code",
   "execution_count": 33,
   "metadata": {},
   "outputs": [
    {
     "data": {
      "text/plain": [
       "<matplotlib.axes._subplots.AxesSubplot at 0x29b8a02d888>"
      ]
     },
     "execution_count": 33,
     "metadata": {},
     "output_type": "execute_result"
    },
    {
     "data": {
      "image/png": "[encoded data removed]",
      "text/plain": [
       "<Figure size 432x288 with 1 Axes>"
      ]
     },
     "metadata": {
      "needs_background": "light"
     },
     "output_type": "display_data"
    }
   ],
   "source": [
    "# 风险和操作方式关系：login sso\n",
    "action_risk = data.groupby('action')['risk_label'].sum()\n",
    "sns.barplot(action_risk.index, action_risk.values)"
   ]
  },
  {
   "cell_type": "code",
   "execution_count": 51,
   "metadata": {},
   "outputs": [
    {
     "data": {
      "text/html": [
       "<div>\n",
       "<style scoped>\n",
       "    .dataframe tbody tr th:only-of-type {\n",
       "        vertical-align: middle;\n",
       "    }\n",
       "\n",
       "    .dataframe tbody tr th {\n",
       "        vertical-align: top;\n",
       "    }\n",
       "\n",
       "    .dataframe thead th {\n",
       "        text-align: right;\n",
       "    }\n",
       "</style>\n",
       "<table border=\"1\" class=\"dataframe\">\n",
       "  <thead>\n",
       "    <tr style=\"text-align: right;\">\n",
       "      <th>risk_label</th>\n",
       "      <th>0</th>\n",
       "      <th>1</th>\n",
       "    </tr>\n",
       "    <tr>\n",
       "      <th>action</th>\n",
       "      <th></th>\n",
       "      <th></th>\n",
       "    </tr>\n",
       "  </thead>\n",
       "  <tbody>\n",
       "    <tr>\n",
       "      <td>login</td>\n",
       "      <td>0.806710</td>\n",
       "      <td>0.193290</td>\n",
       "    </tr>\n",
       "    <tr>\n",
       "      <td>sso</td>\n",
       "      <td>0.801725</td>\n",
       "      <td>0.198275</td>\n",
       "    </tr>\n",
       "  </tbody>\n",
       "</table>\n",
       "</div>"
      ],
      "text/plain": [
       "risk_label         0         1\n",
       "action                        \n",
       "login       0.806710  0.193290\n",
       "sso         0.801725  0.198275"
      ]
     },
     "execution_count": 51,
     "metadata": {},
     "output_type": "execute_result"
    }
   ],
   "source": [
    "data.groupby(['action','risk_label']).size()\\\n",
    ".unstack('risk_label')\\\n",
    ".apply(lambda row:row/row.sum(), axis=1)\n"
   ]
  },
  {
   "cell_type": "code",
   "execution_count": 36,
   "metadata": {},
   "outputs": [
    {
     "data": {
      "text/plain": [
       "<matplotlib.axes._subplots.AxesSubplot at 0x29b8a4e6ac8>"
      ]
     },
     "execution_count": 36,
     "metadata": {},
     "output_type": "execute_result"
    },
    {
     "data": {
      "image/png": "[encoded data removed]",
      "text/plain": [
       "<Figure size 720x360 with 1 Axes>"
      ]
     },
     "metadata": {
      "needs_background": "light"
     },
     "output_type": "display_data"
    }
   ],
   "source": [
    "# 风险和ip地址关系\n",
    "plt.figure(figsize=(10,5))\n",
    "ip_risk = data.groupby('ip')['risk_label'].sum()\n",
    "sns.barplot(ip_risk.index, ip_risk.values)"
   ]
  },
  {
   "cell_type": "code",
   "execution_count": 50,
   "metadata": {},
   "outputs": [
    {
     "data": {
      "text/html": [
       "<div>\n",
       "<style scoped>\n",
       "    .dataframe tbody tr th:only-of-type {\n",
       "        vertical-align: middle;\n",
       "    }\n",
       "\n",
       "    .dataframe tbody tr th {\n",
       "        vertical-align: top;\n",
       "    }\n",
       "\n",
       "    .dataframe thead th {\n",
       "        text-align: right;\n",
       "    }\n",
       "</style>\n",
       "<table border=\"1\" class=\"dataframe\">\n",
       "  <thead>\n",
       "    <tr style=\"text-align: right;\">\n",
       "      <th>risk_label</th>\n",
       "      <th>0</th>\n",
       "      <th>1</th>\n",
       "    </tr>\n",
       "    <tr>\n",
       "      <th>ip</th>\n",
       "      <th></th>\n",
       "      <th></th>\n",
       "    </tr>\n",
       "  </thead>\n",
       "  <tbody>\n",
       "    <tr>\n",
       "      <td>14.196.145.66</td>\n",
       "      <td>0.813991</td>\n",
       "      <td>0.186009</td>\n",
       "    </tr>\n",
       "    <tr>\n",
       "      <td>192.168.0.100</td>\n",
       "      <td>0.817647</td>\n",
       "      <td>0.182353</td>\n",
       "    </tr>\n",
       "    <tr>\n",
       "      <td>192.168.100.101</td>\n",
       "      <td>0.803175</td>\n",
       "      <td>0.196825</td>\n",
       "    </tr>\n",
       "    <tr>\n",
       "      <td>192.168.100.103</td>\n",
       "      <td>0.792909</td>\n",
       "      <td>0.207091</td>\n",
       "    </tr>\n",
       "    <tr>\n",
       "      <td>27.10.135.254</td>\n",
       "      <td>0.806020</td>\n",
       "      <td>0.193980</td>\n",
       "    </tr>\n",
       "  </tbody>\n",
       "</table>\n",
       "</div>"
      ],
      "text/plain": [
       "risk_label              0         1\n",
       "ip                                 \n",
       "14.196.145.66    0.813991  0.186009\n",
       "192.168.0.100    0.817647  0.182353\n",
       "192.168.100.101  0.803175  0.196825\n",
       "192.168.100.103  0.792909  0.207091\n",
       "27.10.135.254    0.806020  0.193980"
      ]
     },
     "execution_count": 50,
     "metadata": {},
     "output_type": "execute_result"
    }
   ],
   "source": [
    "data.groupby(['ip','risk_label']).size()\\\n",
    ".unstack('risk_label')\\\n",
    ".apply(lambda row:row/row.sum(), axis=1)\n"
   ]
  },
  {
   "cell_type": "code",
   "execution_count": 40,
   "metadata": {},
   "outputs": [
    {
     "data": {
      "text/plain": [
       "<matplotlib.axes._subplots.AxesSubplot at 0x29b8a678448>"
      ]
     },
     "execution_count": 40,
     "metadata": {},
     "output_type": "execute_result"
    },
    {
     "data": {
      "image/png": "[encoded data removed]",
      "text/plain": [
       "<Figure size 432x288 with 1 Axes>"
      ]
     },
     "metadata": {
      "needs_background": "light"
     },
     "output_type": "display_data"
    }
   ],
   "source": [
    "# 风险和ip_location_type_keyword关系\n",
    "# plt.figure(figsize=(10,5))\n",
    "plt.rcParams['font.sans-serif']=['SimHei']  # 显式中文\n",
    "ip_location_type_keyword_risk = data.groupby('ip_location_type_keyword')['risk_label'].sum()\n",
    "sns.barplot(ip_location_type_keyword_risk.index, ip_location_type_keyword_risk.values)\n",
    "# plt.bar(ip_location_type_keyword_risk.index, ip_location_type_keyword_risk.values)"
   ]
  },
  {
   "cell_type": "code",
   "execution_count": 58,
   "metadata": {},
   "outputs": [
    {
     "data": {
      "text/html": [
       "<div>\n",
       "<style scoped>\n",
       "    .dataframe tbody tr th:only-of-type {\n",
       "        vertical-align: middle;\n",
       "    }\n",
       "\n",
       "    .dataframe tbody tr th {\n",
       "        vertical-align: top;\n",
       "    }\n",
       "\n",
       "    .dataframe thead th {\n",
       "        text-align: right;\n",
       "    }\n",
       "</style>\n",
       "<table border=\"1\" class=\"dataframe\">\n",
       "  <thead>\n",
       "    <tr style=\"text-align: right;\">\n",
       "      <th>risk_label</th>\n",
       "      <th>0</th>\n",
       "      <th>1</th>\n",
       "    </tr>\n",
       "    <tr>\n",
       "      <th>ip_location_type_keyword</th>\n",
       "      <th></th>\n",
       "      <th></th>\n",
       "    </tr>\n",
       "  </thead>\n",
       "  <tbody>\n",
       "    <tr>\n",
       "      <td>代理IP</td>\n",
       "      <td>0.806020</td>\n",
       "      <td>0.193980</td>\n",
       "    </tr>\n",
       "    <tr>\n",
       "      <td>内网</td>\n",
       "      <td>0.802522</td>\n",
       "      <td>0.197478</td>\n",
       "    </tr>\n",
       "    <tr>\n",
       "      <td>家庭宽带</td>\n",
       "      <td>0.813991</td>\n",
       "      <td>0.186009</td>\n",
       "    </tr>\n",
       "  </tbody>\n",
       "</table>\n",
       "</div>"
      ],
      "text/plain": [
       "risk_label                       0         1\n",
       "ip_location_type_keyword                    \n",
       "代理IP                      0.806020  0.193980\n",
       "内网                        0.802522  0.197478\n",
       "家庭宽带                      0.813991  0.186009"
      ]
     },
     "execution_count": 58,
     "metadata": {},
     "output_type": "execute_result"
    }
   ],
   "source": [
    "data.groupby(['ip_location_type_keyword','risk_label']).size()\\\n",
    ".unstack('risk_label')\\\n",
    ".apply(lambda row:row/row.sum(), axis=1)\n"
   ]
  },
  {
   "cell_type": "code",
   "execution_count": 61,
   "metadata": {},
   "outputs": [
    {
     "data": {
      "text/plain": [
       "<matplotlib.axes._subplots.AxesSubplot at 0x29b8b49dc88>"
      ]
     },
     "execution_count": 61,
     "metadata": {},
     "output_type": "execute_result"
    },
    {
     "data": {
      "image/png": "[encoded data removed]",
      "text/plain": [
       "<Figure size 1440x360 with 1 Axes>"
      ]
     },
     "metadata": {
      "needs_background": "light"
     },
     "output_type": "display_data"
    }
   ],
   "source": [
    "# 风险和位置关系\n",
    "plt.figure(figsize=(20,5))\n",
    "plt.rcParams['font.sans-serif']=['SimHei']  # 显式中文\n",
    "location_risk = data.groupby('location')['risk_label'].sum()\n",
    "sns.barplot(location_risk.index, location_risk.values)"
   ]
  },
  {
   "cell_type": "code",
   "execution_count": 62,
   "metadata": {},
   "outputs": [
    {
     "data": {
      "text/html": [
       "<div>\n",
       "<style scoped>\n",
       "    .dataframe tbody tr th:only-of-type {\n",
       "        vertical-align: middle;\n",
       "    }\n",
       "\n",
       "    .dataframe tbody tr th {\n",
       "        vertical-align: top;\n",
       "    }\n",
       "\n",
       "    .dataframe thead th {\n",
       "        text-align: right;\n",
       "    }\n",
       "</style>\n",
       "<table border=\"1\" class=\"dataframe\">\n",
       "  <thead>\n",
       "    <tr style=\"text-align: right;\">\n",
       "      <th>risk_label</th>\n",
       "      <th>0</th>\n",
       "      <th>1</th>\n",
       "    </tr>\n",
       "    <tr>\n",
       "      <th>location</th>\n",
       "      <th></th>\n",
       "      <th></th>\n",
       "    </tr>\n",
       "  </thead>\n",
       "  <tbody>\n",
       "    <tr>\n",
       "      <td>{\"first_lvl\":\"四川省\",\"sec_lvl\":\"成都市\",\"third_lvl\":\"武侯区\"}</td>\n",
       "      <td>0.813991</td>\n",
       "      <td>0.186009</td>\n",
       "    </tr>\n",
       "    <tr>\n",
       "      <td>{\"first_lvl\":\"成都分公司\",\"sec_lvl\":\"10楼\",\"third_lvl\":\"会议室\"}</td>\n",
       "      <td>0.817647</td>\n",
       "      <td>0.182353</td>\n",
       "    </tr>\n",
       "    <tr>\n",
       "      <td>{\"first_lvl\":\"成都分公司\",\"sec_lvl\":\"9楼\",\"third_lvl\":\"会议室\"}</td>\n",
       "      <td>0.792909</td>\n",
       "      <td>0.207091</td>\n",
       "    </tr>\n",
       "    <tr>\n",
       "      <td>{\"first_lvl\":\"成都分公司\",\"sec_lvl\":\"9楼\",\"third_lvl\":\"销售部\"}</td>\n",
       "      <td>0.803175</td>\n",
       "      <td>0.196825</td>\n",
       "    </tr>\n",
       "    <tr>\n",
       "      <td>{\"first_lvl\":\"重庆\",\"sec_lvl\":\"重庆市\",\"third_lvl\":\"江北区\"}</td>\n",
       "      <td>0.806020</td>\n",
       "      <td>0.193980</td>\n",
       "    </tr>\n",
       "  </tbody>\n",
       "</table>\n",
       "</div>"
      ],
      "text/plain": [
       "risk_label                                                 0         1\n",
       "location                                                              \n",
       "{\"first_lvl\":\"四川省\",\"sec_lvl\":\"成都市\",\"third_lvl\":...  0.813991  0.186009\n",
       "{\"first_lvl\":\"成都分公司\",\"sec_lvl\":\"10楼\",\"third_lvl...  0.817647  0.182353\n",
       "{\"first_lvl\":\"成都分公司\",\"sec_lvl\":\"9楼\",\"third_lvl\"...  0.792909  0.207091\n",
       "{\"first_lvl\":\"成都分公司\",\"sec_lvl\":\"9楼\",\"third_lvl\"...  0.803175  0.196825\n",
       "{\"first_lvl\":\"重庆\",\"sec_lvl\":\"重庆市\",\"third_lvl\":\"...  0.806020  0.193980"
      ]
     },
     "execution_count": 62,
     "metadata": {},
     "output_type": "execute_result"
    }
   ],
   "source": [
    "data.groupby(['location','risk_label']).size()\\\n",
    ".unstack('risk_label')\\\n",
    ".apply(lambda row:row/row.sum(), axis=1)\n"
   ]
  },
  {
   "cell_type": "code",
   "execution_count": 64,
   "metadata": {},
   "outputs": [
    {
     "data": {
      "text/plain": [
       "<matplotlib.axes._subplots.AxesSubplot at 0x29b8c527c08>"
      ]
     },
     "execution_count": 64,
     "metadata": {},
     "output_type": "execute_result"
    },
    {
     "data": {
      "image/png": "[encoded data removed]",
      "text/plain": [
       "<Figure size 432x288 with 1 Axes>"
      ]
     },
     "metadata": {
      "needs_background": "light"
     },
     "output_type": "display_data"
    }
   ],
   "source": [
    "# 风险和browser_type关系\n",
    "# plt.figure(figsize=(20,5))\n",
    "plt.rcParams['font.sans-serif']=['SimHei']  # 显式中文\n",
    "browser_type_risk = data.groupby('browser_type')['risk_label'].sum()\n",
    "sns.barplot(browser_type_risk.index, browser_type_risk.values)"
   ]
  },
  {
   "cell_type": "code",
   "execution_count": 65,
   "metadata": {},
   "outputs": [
    {
     "data": {
      "text/html": [
       "<div>\n",
       "<style scoped>\n",
       "    .dataframe tbody tr th:only-of-type {\n",
       "        vertical-align: middle;\n",
       "    }\n",
       "\n",
       "    .dataframe tbody tr th {\n",
       "        vertical-align: top;\n",
       "    }\n",
       "\n",
       "    .dataframe thead th {\n",
       "        text-align: right;\n",
       "    }\n",
       "</style>\n",
       "<table border=\"1\" class=\"dataframe\">\n",
       "  <thead>\n",
       "    <tr style=\"text-align: right;\">\n",
       "      <th>risk_label</th>\n",
       "      <th>0</th>\n",
       "      <th>1</th>\n",
       "    </tr>\n",
       "    <tr>\n",
       "      <th>browser_type</th>\n",
       "      <th></th>\n",
       "      <th></th>\n",
       "    </tr>\n",
       "  </thead>\n",
       "  <tbody>\n",
       "    <tr>\n",
       "      <td>chrome</td>\n",
       "      <td>0.799149</td>\n",
       "      <td>0.200851</td>\n",
       "    </tr>\n",
       "    <tr>\n",
       "      <td>edge</td>\n",
       "      <td>0.806580</td>\n",
       "      <td>0.193420</td>\n",
       "    </tr>\n",
       "    <tr>\n",
       "      <td>firefox</td>\n",
       "      <td>0.816514</td>\n",
       "      <td>0.183486</td>\n",
       "    </tr>\n",
       "    <tr>\n",
       "      <td>ie</td>\n",
       "      <td>0.814894</td>\n",
       "      <td>0.185106</td>\n",
       "    </tr>\n",
       "    <tr>\n",
       "      <td>safari</td>\n",
       "      <td>0.808683</td>\n",
       "      <td>0.191317</td>\n",
       "    </tr>\n",
       "  </tbody>\n",
       "</table>\n",
       "</div>"
      ],
      "text/plain": [
       "risk_label           0         1\n",
       "browser_type                    \n",
       "chrome        0.799149  0.200851\n",
       "edge          0.806580  0.193420\n",
       "firefox       0.816514  0.183486\n",
       "ie            0.814894  0.185106\n",
       "safari        0.808683  0.191317"
      ]
     },
     "execution_count": 65,
     "metadata": {},
     "output_type": "execute_result"
    }
   ],
   "source": [
    "# browser_type\n",
    "data.groupby(['browser_type','risk_label']).size()\\\n",
    ".unstack('risk_label')\\\n",
    ".apply(lambda row:row/row.sum(), axis=1)\n"
   ]
  },
  {
   "cell_type": "code",
   "execution_count": 68,
   "metadata": {},
   "outputs": [
    {
     "data": {
      "text/plain": [
       "<matplotlib.axes._subplots.AxesSubplot at 0x29b91b62588>"
      ]
     },
     "execution_count": 68,
     "metadata": {},
     "output_type": "execute_result"
    },
    {
     "data": {
      "image/png": "[encoded data removed]",
      "text/plain": [
       "<Figure size 432x288 with 1 Axes>"
      ]
     },
     "metadata": {
      "needs_background": "light"
     },
     "output_type": "display_data"
    }
   ],
   "source": [
    "# user_name\n",
    "plt.rcParams['font.sans-serif']=['SimHei']  # 显式中文\n",
    "user_name_risk = data.groupby('user_name')['risk_label'].sum()\n",
    "sns.barplot(user_name_risk.index, user_name_risk.values)"
   ]
  },
  {
   "cell_type": "code",
   "execution_count": 94,
   "metadata": {},
   "outputs": [
    {
     "data": {
      "text/html": [
       "<div>\n",
       "<style scoped>\n",
       "    .dataframe tbody tr th:only-of-type {\n",
       "        vertical-align: middle;\n",
       "    }\n",
       "\n",
       "    .dataframe tbody tr th {\n",
       "        vertical-align: top;\n",
       "    }\n",
       "\n",
       "    .dataframe thead th {\n",
       "        text-align: right;\n",
       "    }\n",
       "</style>\n",
       "<table border=\"1\" class=\"dataframe\">\n",
       "  <thead>\n",
       "    <tr style=\"text-align: right;\">\n",
       "      <th>risk_label</th>\n",
       "      <th>0</th>\n",
       "      <th>1</th>\n",
       "    </tr>\n",
       "    <tr>\n",
       "      <th>user_name</th>\n",
       "      <th></th>\n",
       "      <th></th>\n",
       "    </tr>\n",
       "  </thead>\n",
       "  <tbody>\n",
       "    <tr>\n",
       "      <td>test_a</td>\n",
       "      <td>0.806247</td>\n",
       "      <td>0.193753</td>\n",
       "    </tr>\n",
       "    <tr>\n",
       "      <td>test_b</td>\n",
       "      <td>0.799562</td>\n",
       "      <td>0.200438</td>\n",
       "    </tr>\n",
       "    <tr>\n",
       "      <td>test_c</td>\n",
       "      <td>0.799580</td>\n",
       "      <td>0.200420</td>\n",
       "    </tr>\n",
       "    <tr>\n",
       "      <td>test_d</td>\n",
       "      <td>0.809190</td>\n",
       "      <td>0.190810</td>\n",
       "    </tr>\n",
       "    <tr>\n",
       "      <td>test_e</td>\n",
       "      <td>0.801111</td>\n",
       "      <td>0.198889</td>\n",
       "    </tr>\n",
       "    <tr>\n",
       "      <td>test_f</td>\n",
       "      <td>0.807659</td>\n",
       "      <td>0.192341</td>\n",
       "    </tr>\n",
       "    <tr>\n",
       "      <td>test_g</td>\n",
       "      <td>0.804422</td>\n",
       "      <td>0.195578</td>\n",
       "    </tr>\n",
       "  </tbody>\n",
       "</table>\n",
       "</div>"
      ],
      "text/plain": [
       "risk_label         0         1\n",
       "user_name                     \n",
       "test_a      0.806247  0.193753\n",
       "test_b      0.799562  0.200438\n",
       "test_c      0.799580  0.200420\n",
       "test_d      0.809190  0.190810\n",
       "test_e      0.801111  0.198889\n",
       "test_f      0.807659  0.192341\n",
       "test_g      0.804422  0.195578"
      ]
     },
     "execution_count": 94,
     "metadata": {},
     "output_type": "execute_result"
    }
   ],
   "source": [
    "data.groupby(['user_name','risk_label']).size()\\\n",
    ".unstack('risk_label')\\\n",
    ".apply(lambda row:row/row.sum(), axis=1)\n"
   ]
  },
  {
   "cell_type": "code",
   "execution_count": 70,
   "metadata": {},
   "outputs": [
    {
     "data": {
      "text/plain": [
       "<matplotlib.axes._subplots.AxesSubplot at 0x29b91c15208>"
      ]
     },
     "execution_count": 70,
     "metadata": {},
     "output_type": "execute_result"
    },
    {
     "data": {
      "image/png": "[encoded data removed]",
      "text/plain": [
       "<Figure size 432x288 with 1 Axes>"
      ]
     },
     "metadata": {
      "needs_background": "light"
     },
     "output_type": "display_data"
    }
   ],
   "source": [
    "# op_target\n",
    "plt.rcParams['font.sans-serif']=['SimHei']  # 显式中文\n",
    "op_target_risk = data.groupby('op_target')['risk_label'].sum()\n",
    "sns.barplot(op_target_risk.index, op_target_risk.values)"
   ]
  },
  {
   "cell_type": "code",
   "execution_count": 80,
   "metadata": {},
   "outputs": [
    {
     "data": {
      "text/plain": [
       "<BarContainer object of 4 artists>"
      ]
     },
     "execution_count": 80,
     "metadata": {},
     "output_type": "execute_result"
    },
    {
     "data": {
      "image/png": "[encoded data removed]",
      "text/plain": [
       "<Figure size 432x288 with 1 Axes>"
      ]
     },
     "metadata": {
      "needs_background": "light"
     },
     "output_type": "display_data"
    }
   ],
   "source": [
    "target = data.groupby(['op_target','risk_label']).size()\\\n",
    ".unstack('risk_label')\\\n",
    ".apply(lambda row:row/row.sum(), axis=1)\n",
    "columns = target.columns\n",
    "plt.barh(target.index, target[columns[1]])"
   ]
  },
  {
   "cell_type": "code",
   "execution_count": 21,
   "metadata": {},
   "outputs": [
    {
     "data": {
      "text/plain": [
       "['session_id',\n",
       " 'op_date',\n",
       " 'user_name',\n",
       " 'action',\n",
       " 'auth_type',\n",
       " 'ip',\n",
       " 'ip_location_type_keyword',\n",
       " 'ip_risk_level',\n",
       " 'location',\n",
       " 'client_type',\n",
       " 'browser_source',\n",
       " 'device_model',\n",
       " 'os_type',\n",
       " 'os_version',\n",
       " 'browser_type',\n",
       " 'browser_version',\n",
       " 'bus_system_code',\n",
       " 'op_target',\n",
       " 'risk_label',\n",
       " 'year',\n",
       " 'month',\n",
       " 'weekday',\n",
       " 'hour',\n",
       " 'minute']"
      ]
     },
     "execution_count": 21,
     "metadata": {},
     "output_type": "execute_result"
    }
   ],
   "source": [
    "data.columns.values.tolist()"
   ]
  },
  {
   "cell_type": "code",
   "execution_count": 74,
   "metadata": {},
   "outputs": [],
   "source": [
    "data.fillna(method='pad',inplace=True)  # pad前向填充"
   ]
  },
  {
   "cell_type": "code",
   "execution_count": 78,
   "metadata": {},
   "outputs": [
    {
     "data": {
      "text/plain": [
       "0    1268\n",
       "1     299\n",
       "Name: risk_label, dtype: int64"
      ]
     },
     "execution_count": 78,
     "metadata": {},
     "output_type": "execute_result"
    }
   ],
   "source": [
    "data[data['user_name'] == 'test_d']['risk_label'].value_counts()"
   ]
  },
  {
   "cell_type": "code",
   "execution_count": 83,
   "metadata": {},
   "outputs": [
    {
     "data": {
      "text/plain": [
       "<matplotlib.axes._subplots.AxesSubplot at 0x29b91e70c08>"
      ]
     },
     "execution_count": 83,
     "metadata": {},
     "output_type": "execute_result"
    },
    {
     "data": {
      "image/png": "[encoded data removed]",
      "text/plain": [
       "<Figure size 432x288 with 1 Axes>"
      ]
     },
     "metadata": {
      "needs_background": "light"
     },
     "output_type": "display_data"
    }
   ],
   "source": [
    "# client_type与风险的关系\n",
    "# plt.rcParams['font.sans-serif']=['SimHei']  # 显式中文\n",
    "client_type_risk = data.groupby('client_type')['risk_label'].sum()\n",
    "sns.barplot(client_type_risk.index, client_type_risk.values)"
   ]
  },
  {
   "cell_type": "code",
   "execution_count": 86,
   "metadata": {},
   "outputs": [
    {
     "data": {
      "text/html": [
       "<div>\n",
       "<style scoped>\n",
       "    .dataframe tbody tr th:only-of-type {\n",
       "        vertical-align: middle;\n",
       "    }\n",
       "\n",
       "    .dataframe tbody tr th {\n",
       "        vertical-align: top;\n",
       "    }\n",
       "\n",
       "    .dataframe thead th {\n",
       "        text-align: right;\n",
       "    }\n",
       "</style>\n",
       "<table border=\"1\" class=\"dataframe\">\n",
       "  <thead>\n",
       "    <tr style=\"text-align: right;\">\n",
       "      <th>risk_label</th>\n",
       "      <th>0</th>\n",
       "      <th>1</th>\n",
       "    </tr>\n",
       "    <tr>\n",
       "      <th>browser_source</th>\n",
       "      <th></th>\n",
       "      <th></th>\n",
       "    </tr>\n",
       "  </thead>\n",
       "  <tbody>\n",
       "    <tr>\n",
       "      <td>desktop</td>\n",
       "      <td>0.804209</td>\n",
       "      <td>0.195791</td>\n",
       "    </tr>\n",
       "  </tbody>\n",
       "</table>\n",
       "</div>"
      ],
      "text/plain": [
       "risk_label             0         1\n",
       "browser_source                    \n",
       "desktop         0.804209  0.195791"
      ]
     },
     "execution_count": 86,
     "metadata": {},
     "output_type": "execute_result"
    }
   ],
   "source": [
    "data.groupby(['browser_source','risk_label']).size()\\\n",
    ".unstack('risk_label')\\\n",
    ".apply(lambda row:row/row.sum(), axis=1)"
   ]
  },
  {
   "cell_type": "code",
   "execution_count": 85,
   "metadata": {},
   "outputs": [
    {
     "data": {
      "text/plain": [
       "web    15016\n",
       "Name: client_type, dtype: int64"
      ]
     },
     "execution_count": 85,
     "metadata": {},
     "output_type": "execute_result"
    }
   ],
   "source": [
    "data['client_type'].value_counts()"
   ]
  },
  {
   "cell_type": "code",
   "execution_count": 89,
   "metadata": {},
   "outputs": [
    {
     "data": {
      "text/plain": [
       "<matplotlib.axes._subplots.AxesSubplot at 0x29b930b3dc8>"
      ]
     },
     "execution_count": 89,
     "metadata": {},
     "output_type": "execute_result"
    },
    {
     "data": {
      "image/png": "[encoded data removed]",
      "text/plain": [
       "<Figure size 432x288 with 1 Axes>"
      ]
     },
     "metadata": {
      "needs_background": "light"
     },
     "output_type": "display_data"
    }
   ],
   "source": [
    "# data['browser_type'].value_counts()\n",
    "browser_type_risk = data.groupby('browser_type')['risk_label'].sum()\n",
    "sns.barplot(browser_type_risk.index, browser_type_risk.values)"
   ]
  },
  {
   "cell_type": "code",
   "execution_count": 90,
   "metadata": {},
   "outputs": [
    {
     "data": {
      "text/html": [
       "<div>\n",
       "<style scoped>\n",
       "    .dataframe tbody tr th:only-of-type {\n",
       "        vertical-align: middle;\n",
       "    }\n",
       "\n",
       "    .dataframe tbody tr th {\n",
       "        vertical-align: top;\n",
       "    }\n",
       "\n",
       "    .dataframe thead th {\n",
       "        text-align: right;\n",
       "    }\n",
       "</style>\n",
       "<table border=\"1\" class=\"dataframe\">\n",
       "  <thead>\n",
       "    <tr style=\"text-align: right;\">\n",
       "      <th>risk_label</th>\n",
       "      <th>0</th>\n",
       "      <th>1</th>\n",
       "    </tr>\n",
       "    <tr>\n",
       "      <th>browser_type</th>\n",
       "      <th></th>\n",
       "      <th></th>\n",
       "    </tr>\n",
       "  </thead>\n",
       "  <tbody>\n",
       "    <tr>\n",
       "      <td>chrome</td>\n",
       "      <td>0.799149</td>\n",
       "      <td>0.200851</td>\n",
       "    </tr>\n",
       "    <tr>\n",
       "      <td>edge</td>\n",
       "      <td>0.806580</td>\n",
       "      <td>0.193420</td>\n",
       "    </tr>\n",
       "    <tr>\n",
       "      <td>firefox</td>\n",
       "      <td>0.816514</td>\n",
       "      <td>0.183486</td>\n",
       "    </tr>\n",
       "    <tr>\n",
       "      <td>ie</td>\n",
       "      <td>0.814894</td>\n",
       "      <td>0.185106</td>\n",
       "    </tr>\n",
       "    <tr>\n",
       "      <td>safari</td>\n",
       "      <td>0.808683</td>\n",
       "      <td>0.191317</td>\n",
       "    </tr>\n",
       "  </tbody>\n",
       "</table>\n",
       "</div>"
      ],
      "text/plain": [
       "risk_label           0         1\n",
       "browser_type                    \n",
       "chrome        0.799149  0.200851\n",
       "edge          0.806580  0.193420\n",
       "firefox       0.816514  0.183486\n",
       "ie            0.814894  0.185106\n",
       "safari        0.808683  0.191317"
      ]
     },
     "execution_count": 90,
     "metadata": {},
     "output_type": "execute_result"
    }
   ],
   "source": [
    "data.groupby(['browser_type','risk_label']).size()\\\n",
    ".unstack('risk_label')\\\n",
    ".apply(lambda row:row/row.sum(), axis=1)"
   ]
  },
  {
   "cell_type": "code",
   "execution_count": 91,
   "metadata": {},
   "outputs": [
    {
     "data": {
      "text/plain": [
       "<matplotlib.axes._subplots.AxesSubplot at 0x29b931243c8>"
      ]
     },
     "execution_count": 91,
     "metadata": {},
     "output_type": "execute_result"
    },
    {
     "data": {
      "image/png": "[encoded data removed]",
      "text/plain": [
       "<Figure size 432x288 with 1 Axes>"
      ]
     },
     "metadata": {
      "needs_background": "light"
     },
     "output_type": "display_data"
    }
   ],
   "source": [
    "# os_type\n",
    "os_type_risk = data.groupby('os_type')['risk_label'].sum()\n",
    "sns.barplot(os_type_risk.index, os_type_risk.values)"
   ]
  },
  {
   "cell_type": "code",
   "execution_count": 92,
   "metadata": {},
   "outputs": [
    {
     "data": {
      "text/html": [
       "<div>\n",
       "<style scoped>\n",
       "    .dataframe tbody tr th:only-of-type {\n",
       "        vertical-align: middle;\n",
       "    }\n",
       "\n",
       "    .dataframe tbody tr th {\n",
       "        vertical-align: top;\n",
       "    }\n",
       "\n",
       "    .dataframe thead th {\n",
       "        text-align: right;\n",
       "    }\n",
       "</style>\n",
       "<table border=\"1\" class=\"dataframe\">\n",
       "  <thead>\n",
       "    <tr style=\"text-align: right;\">\n",
       "      <th>risk_label</th>\n",
       "      <th>0</th>\n",
       "      <th>1</th>\n",
       "    </tr>\n",
       "    <tr>\n",
       "      <th>os_type</th>\n",
       "      <th></th>\n",
       "      <th></th>\n",
       "    </tr>\n",
       "  </thead>\n",
       "  <tbody>\n",
       "    <tr>\n",
       "      <td>macOS</td>\n",
       "      <td>0.808683</td>\n",
       "      <td>0.191317</td>\n",
       "    </tr>\n",
       "    <tr>\n",
       "      <td>windows</td>\n",
       "      <td>0.803483</td>\n",
       "      <td>0.196517</td>\n",
       "    </tr>\n",
       "  </tbody>\n",
       "</table>\n",
       "</div>"
      ],
      "text/plain": [
       "risk_label         0         1\n",
       "os_type                       \n",
       "macOS       0.808683  0.191317\n",
       "windows     0.803483  0.196517"
      ]
     },
     "execution_count": 92,
     "metadata": {},
     "output_type": "execute_result"
    }
   ],
   "source": [
    "data.groupby(['os_type','risk_label']).size()\\\n",
    ".unstack('risk_label')\\\n",
    ".apply(lambda row:row/row.sum(), axis=1)"
   ]
  },
  {
   "cell_type": "code",
   "execution_count": 103,
   "metadata": {},
   "outputs": [
    {
     "data": {
      "text/html": [
       "<div>\n",
       "<style scoped>\n",
       "    .dataframe tbody tr th:only-of-type {\n",
       "        vertical-align: middle;\n",
       "    }\n",
       "\n",
       "    .dataframe tbody tr th {\n",
       "        vertical-align: top;\n",
       "    }\n",
       "\n",
       "    .dataframe thead th {\n",
       "        text-align: right;\n",
       "    }\n",
       "</style>\n",
       "<table border=\"1\" class=\"dataframe\">\n",
       "  <thead>\n",
       "    <tr style=\"text-align: right;\">\n",
       "      <th></th>\n",
       "      <th>user_name</th>\n",
       "      <th>test_a</th>\n",
       "      <th>test_b</th>\n",
       "      <th>test_c</th>\n",
       "      <th>test_d</th>\n",
       "      <th>test_e</th>\n",
       "      <th>test_f</th>\n",
       "      <th>test_g</th>\n",
       "    </tr>\n",
       "    <tr>\n",
       "      <th>risk_label</th>\n",
       "      <th>op_date</th>\n",
       "      <th></th>\n",
       "      <th></th>\n",
       "      <th></th>\n",
       "      <th></th>\n",
       "      <th></th>\n",
       "      <th></th>\n",
       "      <th></th>\n",
       "    </tr>\n",
       "  </thead>\n",
       "  <tbody>\n",
       "    <tr>\n",
       "      <td rowspan=\"5\" valign=\"top\">0</td>\n",
       "      <td>2018-01-01 09:12:00</td>\n",
       "      <td>0.0</td>\n",
       "      <td>0.0</td>\n",
       "      <td>0.0</td>\n",
       "      <td>1.0</td>\n",
       "      <td>0.0</td>\n",
       "      <td>0.0</td>\n",
       "      <td>0.0</td>\n",
       "    </tr>\n",
       "    <tr>\n",
       "      <td>2018-01-01 09:28:00</td>\n",
       "      <td>0.0</td>\n",
       "      <td>0.0</td>\n",
       "      <td>0.0</td>\n",
       "      <td>1.0</td>\n",
       "      <td>0.0</td>\n",
       "      <td>0.0</td>\n",
       "      <td>0.0</td>\n",
       "    </tr>\n",
       "    <tr>\n",
       "      <td>2018-01-01 09:47:00</td>\n",
       "      <td>0.0</td>\n",
       "      <td>0.0</td>\n",
       "      <td>0.0</td>\n",
       "      <td>1.0</td>\n",
       "      <td>0.0</td>\n",
       "      <td>0.0</td>\n",
       "      <td>0.0</td>\n",
       "    </tr>\n",
       "    <tr>\n",
       "      <td>2018-01-01 10:25:00</td>\n",
       "      <td>0.0</td>\n",
       "      <td>0.0</td>\n",
       "      <td>0.0</td>\n",
       "      <td>1.0</td>\n",
       "      <td>0.0</td>\n",
       "      <td>0.0</td>\n",
       "      <td>0.0</td>\n",
       "    </tr>\n",
       "    <tr>\n",
       "      <td>2018-01-01 10:28:00</td>\n",
       "      <td>0.0</td>\n",
       "      <td>0.0</td>\n",
       "      <td>0.0</td>\n",
       "      <td>1.0</td>\n",
       "      <td>0.0</td>\n",
       "      <td>0.0</td>\n",
       "      <td>0.0</td>\n",
       "    </tr>\n",
       "    <tr>\n",
       "      <td>...</td>\n",
       "      <td>...</td>\n",
       "      <td>...</td>\n",
       "      <td>...</td>\n",
       "      <td>...</td>\n",
       "      <td>...</td>\n",
       "      <td>...</td>\n",
       "      <td>...</td>\n",
       "      <td>...</td>\n",
       "    </tr>\n",
       "    <tr>\n",
       "      <td rowspan=\"5\" valign=\"top\">1</td>\n",
       "      <td>2019-10-23 16:31:00</td>\n",
       "      <td>0.0</td>\n",
       "      <td>0.0</td>\n",
       "      <td>1.0</td>\n",
       "      <td>0.0</td>\n",
       "      <td>0.0</td>\n",
       "      <td>0.0</td>\n",
       "      <td>0.0</td>\n",
       "    </tr>\n",
       "    <tr>\n",
       "      <td>2019-10-23 17:08:00</td>\n",
       "      <td>0.0</td>\n",
       "      <td>0.0</td>\n",
       "      <td>1.0</td>\n",
       "      <td>0.0</td>\n",
       "      <td>0.0</td>\n",
       "      <td>0.0</td>\n",
       "      <td>0.0</td>\n",
       "    </tr>\n",
       "    <tr>\n",
       "      <td>2019-10-23 18:39:00</td>\n",
       "      <td>0.0</td>\n",
       "      <td>0.0</td>\n",
       "      <td>1.0</td>\n",
       "      <td>0.0</td>\n",
       "      <td>0.0</td>\n",
       "      <td>0.0</td>\n",
       "      <td>0.0</td>\n",
       "    </tr>\n",
       "    <tr>\n",
       "      <td>2019-10-23 21:17:00</td>\n",
       "      <td>0.0</td>\n",
       "      <td>0.0</td>\n",
       "      <td>1.0</td>\n",
       "      <td>0.0</td>\n",
       "      <td>0.0</td>\n",
       "      <td>0.0</td>\n",
       "      <td>0.0</td>\n",
       "    </tr>\n",
       "    <tr>\n",
       "      <td>2019-10-23 22:10:00</td>\n",
       "      <td>0.0</td>\n",
       "      <td>0.0</td>\n",
       "      <td>1.0</td>\n",
       "      <td>0.0</td>\n",
       "      <td>0.0</td>\n",
       "      <td>0.0</td>\n",
       "      <td>0.0</td>\n",
       "    </tr>\n",
       "  </tbody>\n",
       "</table>\n",
       "<p>15016 rows × 7 columns</p>\n",
       "</div>"
      ],
      "text/plain": [
       "user_name                       test_a  test_b  test_c  test_d  test_e  \\\n",
       "risk_label op_date                                                       \n",
       "0          2018-01-01 09:12:00     0.0     0.0     0.0     1.0     0.0   \n",
       "           2018-01-01 09:28:00     0.0     0.0     0.0     1.0     0.0   \n",
       "           2018-01-01 09:47:00     0.0     0.0     0.0     1.0     0.0   \n",
       "           2018-01-01 10:25:00     0.0     0.0     0.0     1.0     0.0   \n",
       "           2018-01-01 10:28:00     0.0     0.0     0.0     1.0     0.0   \n",
       "...                                ...     ...     ...     ...     ...   \n",
       "1          2019-10-23 16:31:00     0.0     0.0     1.0     0.0     0.0   \n",
       "           2019-10-23 17:08:00     0.0     0.0     1.0     0.0     0.0   \n",
       "           2019-10-23 18:39:00     0.0     0.0     1.0     0.0     0.0   \n",
       "           2019-10-23 21:17:00     0.0     0.0     1.0     0.0     0.0   \n",
       "           2019-10-23 22:10:00     0.0     0.0     1.0     0.0     0.0   \n",
       "\n",
       "user_name                       test_f  test_g  \n",
       "risk_label op_date                              \n",
       "0          2018-01-01 09:12:00     0.0     0.0  \n",
       "           2018-01-01 09:28:00     0.0     0.0  \n",
       "           2018-01-01 09:47:00     0.0     0.0  \n",
       "           2018-01-01 10:25:00     0.0     0.0  \n",
       "           2018-01-01 10:28:00     0.0     0.0  \n",
       "...                                ...     ...  \n",
       "1          2019-10-23 16:31:00     0.0     0.0  \n",
       "           2019-10-23 17:08:00     0.0     0.0  \n",
       "           2019-10-23 18:39:00     0.0     0.0  \n",
       "           2019-10-23 21:17:00     0.0     0.0  \n",
       "           2019-10-23 22:10:00     0.0     0.0  \n",
       "\n",
       "[15016 rows x 7 columns]"
      ]
     },
     "execution_count": 103,
     "metadata": {},
     "output_type": "execute_result"
    }
   ],
   "source": [
    "data.groupby(['user_name','risk_label','op_date']).size()\\\n",
    ".unstack('user_name')\\\n",
    ".fillna(0)"
   ]
  },
  {
   "cell_type": "code",
   "execution_count": null,
   "metadata": {},
   "outputs": [],
   "source": []
  }
 ],
 "metadata": {
  "kernelspec": {
   "display_name": "Python 3",
   "language": "python",
   "name": "python3"
  },
  "language_info": {
   "codemirror_mode": {
    "name": "ipython",
    "version": 3
   },
   "file_extension": ".py",
   "mimetype": "text/x-python",
   "name": "python",
   "nbconvert_exporter": "python",
   "pygments_lexer": "ipython3",
   "version": "3.7.4"
  },
  "toc": {
   "base_numbering": 1,
   "nav_menu": {},
   "number_sections": true,
   "sideBar": true,
   "skip_h1_title": false,
   "title_cell": "Table of Contents",
   "title_sidebar": "Contents",
   "toc_cell": false,
   "toc_position": {},
   "toc_section_display": true,
   "toc_window_display": false
  }
 },
 "nbformat": 4,
 "nbformat_minor": 2
}
