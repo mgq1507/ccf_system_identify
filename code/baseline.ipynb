{
 "cells": [
  {
   "cell_type": "code",
   "execution_count": 1,
   "metadata": {},
   "outputs": [],
   "source": [
    "import sklearn\n",
    "from sklearn.model_selection  import train_test_split,cross_val_score\n",
    "from xgboost.sklearn import XGBClassifier\n",
    "from sklearn.metrics import precision_score,roc_auc_score\n",
    "import pandas as pd\n",
    "import matplotlib.pyplot as plt\n",
    "import seaborn as sns\n",
    "import numpy as np\n",
    "import json\n",
    "from tqdm import tqdm\n",
    "from sklearn.preprocessing import LabelEncoder, StandardScaler, MinMaxScaler\n",
    "from sklearn.model_selection import KFold, StratifiedKFold\n",
    "from sklearn.metrics import roc_auc_score\n",
    "from scipy import stats\n",
    "\n",
    "import lightgbm as lgb\n",
    "\n",
    "import warnings\n",
    "\n",
    "warnings.simplefilter('ignore')\n"
   ]
  },
  {
   "cell_type": "code",
   "execution_count": 2,
   "metadata": {},
   "outputs": [],
   "source": [
    "train = pd.read_csv('../data/train_dataset.csv', delimiter='\\t')\n",
    "test =  pd.read_csv('../data/test_dataset.csv', delimiter='\\t')"
   ]
  },
  {
   "cell_type": "code",
   "execution_count": 3,
   "metadata": {},
   "outputs": [
    {
     "name": "stdout",
     "output_type": "stream",
     "text": [
      "(25016, 19)\n"
     ]
    }
   ],
   "source": [
    "data = pd.concat([train, test])\n",
    "print(data.shape)"
   ]
  },
  {
   "cell_type": "code",
   "execution_count": 4,
   "metadata": {},
   "outputs": [
    {
     "name": "stderr",
     "output_type": "stream",
     "text": [
      "100%|██████████████████████████████████████████████████████████████████████████████████| 15/15 [00:00<00:00, 22.42it/s]\n"
     ]
    }
   ],
   "source": [
    "data['browser'] = data['browser_source'].astype(str) + '_' +  data['browser_type'].astype(str)+ '_' \\\n",
    "                + data['bus_system_code'].astype(str)+ '_'+ data['os_type'].astype(str) + '_'\\\n",
    "                + data['os_version'].astype(str) + '_' + data['device_model'].astype(str) + '_' \\\n",
    "                + data['ip'].astype(str) + '_' +  data['ip_location_type_keyword'].astype(str)+ '_' \\\n",
    "                + data['ip_risk_level'].astype(str) \n",
    "                \n",
    "\n",
    "data.drop(['client_type', 'browser_source'], axis=1, inplace=True)\n",
    "data['auth_type'].fillna('__NaN__', inplace=True)  \n",
    "\n",
    "\n",
    "\n",
    "for col in tqdm(['user_name', 'action', 'ip', 'auth_type','browser',\n",
    "                 'ip_location_type_keyword', 'ip_risk_level', 'location', 'device_model',\n",
    "                 'os_type', 'os_version', 'browser_type', 'browser_version',\n",
    "                 'bus_system_code', 'op_target']):\n",
    "    lbl = LabelEncoder()\n",
    "    data[col] = lbl.fit_transform(data[col])"
   ]
  },
  {
   "cell_type": "code",
   "execution_count": 5,
   "metadata": {},
   "outputs": [],
   "source": [
    "# 时间特征\n",
    "data['op_date'] = pd.to_datetime(data['op_date'])\n",
    "data['op_ts'] = data[\"op_date\"].values.astype(np.int64) // 10 ** 9\n",
    "data = data.sort_values(by=['user_name', 'op_ts']).reset_index(drop=True)\n",
    "data['last_ts'] = data.groupby(['user_name'])['op_ts'].shift(1)\n",
    "data['ts_diff1'] = data['op_ts'] - data['last_ts']\n",
    "\n",
    "for method in ['mean', 'max', 'min', 'std', 'sum', 'median', 'skew']:\n",
    "    for col in ['user_name', 'ip', 'location', 'device_model', 'os_version', 'browser_version','browser']:\n",
    "        data[f'ts_diff1_{method}_' + str(col)] = data.groupby(col)['ts_diff1'].transform(method)\n"
   ]
  },
  {
   "cell_type": "code",
   "execution_count": 7,
   "metadata": {},
   "outputs": [
    {
     "name": "stderr",
     "output_type": "stream",
     "text": [
      "100%|███████████████████████████████████████████████████████████████████████████████████| 6/6 [00:00<00:00, 130.79it/s]\n"
     ]
    }
   ],
   "source": [
    "time_columns = ['is_month_end', 'is_month_start',\\\n",
    "                'is_quarter_end', 'is_quarter_start', 'is_year_end', 'is_year_start']\n",
    "\n",
    "data['is_leap_year'] = data['op_date'].dt.is_leap_year\n",
    "data['is_month_end'] = data['op_date'].dt.is_month_end\n",
    "data['is_month_start'] = data['op_date'].dt.is_month_start\n",
    "data['is_quarter_end'] = data['op_date'].dt.is_quarter_end\n",
    "data['is_quarter_start'] = data['op_date'].dt.is_quarter_start\n",
    "data['is_year_end'] = data['op_date'].dt.is_year_end\n",
    "data['is_year_start'] = data['op_date'].dt.is_year_start\n",
    "\n",
    "\n",
    "for col in tqdm(time_columns):\n",
    "    lbl = LabelEncoder()\n",
    "    data[col] = lbl.fit_transform(data[col])"
   ]
  },
  {
   "cell_type": "code",
   "execution_count": 8,
   "metadata": {},
   "outputs": [],
   "source": [
    "# 众数和分位数\n",
    "for method in ['nunique']:\n",
    "    for f in ['ip', 'location', 'device_model', 'os_version', 'browser_version']:\n",
    "        data[f'user_{f}_{method}'] = data.groupby(['user_name'])[f].transform(method)\n",
    "    \n",
    "    \n"
   ]
  },
  {
   "cell_type": "code",
   "execution_count": 10,
   "metadata": {},
   "outputs": [
    {
     "name": "stdout",
     "output_type": "stream",
     "text": [
      "(15016, 82) (10000, 82)\n"
     ]
    }
   ],
   "source": [
    "\n",
    "train = data[data['risk_label'].notna()]\n",
    "test = data[data['risk_label'].isna()]\n",
    "\n",
    "print(train.shape, test.shape)"
   ]
  },
  {
   "cell_type": "code",
   "execution_count": 11,
   "metadata": {
    "scrolled": false
   },
   "outputs": [
    {
     "name": "stdout",
     "output_type": "stream",
     "text": [
      "\n",
      "Fold_1 Training ================================\n",
      "\n",
      "Training until validation scores don't improve for 50 rounds.\n",
      "Early stopping, best iteration is:\n",
      "[31]\ttrain's auc: 0.83818\tvalid's auc: 0.576745\n",
      "\n",
      "Fold_2 Training ================================\n",
      "\n",
      "Training until validation scores don't improve for 50 rounds.\n",
      "Early stopping, best iteration is:\n",
      "[6]\ttrain's auc: 0.820007\tvalid's auc: 0.501273\n",
      "\n",
      "Fold_3 Training ================================\n",
      "\n",
      "Training until validation scores don't improve for 50 rounds.\n",
      "Early stopping, best iteration is:\n",
      "[78]\ttrain's auc: 0.89678\tvalid's auc: 0.514281\n",
      "\n",
      "Fold_4 Training ================================\n",
      "\n",
      "Training until validation scores don't improve for 50 rounds.\n",
      "Early stopping, best iteration is:\n",
      "[106]\ttrain's auc: 0.921014\tvalid's auc: 0.496576\n",
      "\n",
      "Fold_5 Training ================================\n",
      "\n",
      "Training until validation scores don't improve for 50 rounds.\n",
      "Early stopping, best iteration is:\n",
      "[66]\ttrain's auc: 0.890494\tvalid's auc: 0.542714\n",
      "\n",
      "Fold_6 Training ================================\n",
      "\n",
      "Training until validation scores don't improve for 50 rounds.\n",
      "Early stopping, best iteration is:\n",
      "[4]\ttrain's auc: 0.771924\tvalid's auc: 0.515284\n",
      "\n",
      "Fold_7 Training ================================\n",
      "\n",
      "Training until validation scores don't improve for 50 rounds.\n",
      "Early stopping, best iteration is:\n",
      "[24]\ttrain's auc: 0.83993\tvalid's auc: 0.558381\n",
      "\n",
      "Fold_8 Training ================================\n",
      "\n",
      "Training until validation scores don't improve for 50 rounds.\n",
      "Early stopping, best iteration is:\n",
      "[23]\ttrain's auc: 0.835016\tvalid's auc: 0.5454\n",
      "\n",
      "Fold_9 Training ================================\n",
      "\n",
      "Training until validation scores don't improve for 50 rounds.\n",
      "Early stopping, best iteration is:\n",
      "[66]\ttrain's auc: 0.887424\tvalid's auc: 0.510711\n",
      "\n",
      "Fold_10 Training ================================\n",
      "\n",
      "Training until validation scores don't improve for 50 rounds.\n",
      "Early stopping, best iteration is:\n",
      "[73]\ttrain's auc: 0.892976\tvalid's auc: 0.520453\n",
      "\n",
      "Fold_11 Training ================================\n",
      "\n",
      "Training until validation scores don't improve for 50 rounds.\n",
      "Early stopping, best iteration is:\n",
      "[29]\ttrain's auc: 0.838926\tvalid's auc: 0.550908\n",
      "\n",
      "Fold_12 Training ================================\n",
      "\n",
      "Training until validation scores don't improve for 50 rounds.\n",
      "Early stopping, best iteration is:\n",
      "[27]\ttrain's auc: 0.832906\tvalid's auc: 0.529953\n",
      "\n",
      "Fold_13 Training ================================\n",
      "\n",
      "Training until validation scores don't improve for 50 rounds.\n",
      "Early stopping, best iteration is:\n",
      "[14]\ttrain's auc: 0.809566\tvalid's auc: 0.524159\n",
      "\n",
      "Fold_14 Training ================================\n",
      "\n",
      "Training until validation scores don't improve for 50 rounds.\n",
      "Early stopping, best iteration is:\n",
      "[10]\ttrain's auc: 0.795582\tvalid's auc: 0.529261\n",
      "\n",
      "Fold_15 Training ================================\n",
      "\n",
      "Training until validation scores don't improve for 50 rounds.\n",
      "Early stopping, best iteration is:\n",
      "[1]\ttrain's auc: 0.690066\tvalid's auc: 0.478809\n",
      "\n",
      "Fold_16 Training ================================\n",
      "\n",
      "Training until validation scores don't improve for 50 rounds.\n",
      "Early stopping, best iteration is:\n",
      "[86]\ttrain's auc: 0.902924\tvalid's auc: 0.542708\n",
      "\n",
      "Fold_17 Training ================================\n",
      "\n",
      "Training until validation scores don't improve for 50 rounds.\n",
      "Early stopping, best iteration is:\n",
      "[41]\ttrain's auc: 0.855628\tvalid's auc: 0.563746\n",
      "\n",
      "Fold_18 Training ================================\n",
      "\n",
      "Training until validation scores don't improve for 50 rounds.\n",
      "Early stopping, best iteration is:\n",
      "[61]\ttrain's auc: 0.884124\tvalid's auc: 0.558534\n",
      "\n",
      "Fold_19 Training ================================\n",
      "\n",
      "Training until validation scores don't improve for 50 rounds.\n",
      "Early stopping, best iteration is:\n",
      "[84]\ttrain's auc: 0.903934\tvalid's auc: 0.503621\n",
      "\n",
      "Fold_20 Training ================================\n",
      "\n",
      "Training until validation scores don't improve for 50 rounds.\n",
      "Early stopping, best iteration is:\n",
      "[1]\ttrain's auc: 0.692826\tvalid's auc: 0.52302\n"
     ]
    },
    {
     "data": {
      "text/html": [
       "<div>\n",
       "<style scoped>\n",
       "    .dataframe tbody tr th:only-of-type {\n",
       "        vertical-align: middle;\n",
       "    }\n",
       "\n",
       "    .dataframe tbody tr th {\n",
       "        vertical-align: top;\n",
       "    }\n",
       "\n",
       "    .dataframe thead th {\n",
       "        text-align: right;\n",
       "    }\n",
       "</style>\n",
       "<table border=\"1\" class=\"dataframe\">\n",
       "  <thead>\n",
       "    <tr style=\"text-align: right;\">\n",
       "      <th></th>\n",
       "      <th>column</th>\n",
       "      <th>importance</th>\n",
       "    </tr>\n",
       "  </thead>\n",
       "  <tbody>\n",
       "    <tr>\n",
       "      <td>0</td>\n",
       "      <td>op_ts</td>\n",
       "      <td>1467.70</td>\n",
       "    </tr>\n",
       "    <tr>\n",
       "      <td>1</td>\n",
       "      <td>ts_diff1</td>\n",
       "      <td>812.30</td>\n",
       "    </tr>\n",
       "    <tr>\n",
       "      <td>2</td>\n",
       "      <td>auth_type</td>\n",
       "      <td>340.40</td>\n",
       "    </tr>\n",
       "    <tr>\n",
       "      <td>3</td>\n",
       "      <td>ts_diff1_mean_browser</td>\n",
       "      <td>292.85</td>\n",
       "    </tr>\n",
       "    <tr>\n",
       "      <td>4</td>\n",
       "      <td>browser</td>\n",
       "      <td>290.85</td>\n",
       "    </tr>\n",
       "    <tr>\n",
       "      <td>...</td>\n",
       "      <td>...</td>\n",
       "      <td>...</td>\n",
       "    </tr>\n",
       "    <tr>\n",
       "      <td>73</td>\n",
       "      <td>ts_diff1_min_location</td>\n",
       "      <td>0.00</td>\n",
       "    </tr>\n",
       "    <tr>\n",
       "      <td>74</td>\n",
       "      <td>ts_diff1_min_ip</td>\n",
       "      <td>0.00</td>\n",
       "    </tr>\n",
       "    <tr>\n",
       "      <td>75</td>\n",
       "      <td>ts_diff1_min_device_model</td>\n",
       "      <td>0.00</td>\n",
       "    </tr>\n",
       "    <tr>\n",
       "      <td>76</td>\n",
       "      <td>ts_diff1_min_browser_version</td>\n",
       "      <td>0.00</td>\n",
       "    </tr>\n",
       "    <tr>\n",
       "      <td>77</td>\n",
       "      <td>is_leap_year</td>\n",
       "      <td>0.00</td>\n",
       "    </tr>\n",
       "  </tbody>\n",
       "</table>\n",
       "<p>78 rows × 2 columns</p>\n",
       "</div>"
      ],
      "text/plain": [
       "                          column  importance\n",
       "0                          op_ts     1467.70\n",
       "1                       ts_diff1      812.30\n",
       "2                      auth_type      340.40\n",
       "3          ts_diff1_mean_browser      292.85\n",
       "4                        browser      290.85\n",
       "..                           ...         ...\n",
       "73         ts_diff1_min_location        0.00\n",
       "74               ts_diff1_min_ip        0.00\n",
       "75     ts_diff1_min_device_model        0.00\n",
       "76  ts_diff1_min_browser_version        0.00\n",
       "77                  is_leap_year        0.00\n",
       "\n",
       "[78 rows x 2 columns]"
      ]
     },
     "execution_count": 11,
     "metadata": {},
     "output_type": "execute_result"
    }
   ],
   "source": [
    "# 训练\n",
    "ycol = 'risk_label'\n",
    "feature_names = list(\n",
    "    filter(lambda x: x not in [ycol, 'session_id', 'op_date', 'last_ts', 'last_ts2', 'precise_time'], train.columns))\n",
    "\n",
    "\n",
    "\n",
    "\n",
    "model = lgb.LGBMClassifier(objective='binary',\n",
    "                           boosting_type='goss',\n",
    "                           tree_learner='serial',\n",
    "                           num_leaves=2 ** 8,\n",
    "                           max_depth=16,\n",
    "                           learning_rate=0.2,\n",
    "                           n_estimators=10000,\n",
    "                           subsample=0.75,\n",
    "                           feature_fraction=0.55,\n",
    "                           reg_alpha=0.2,\n",
    "                           reg_lambda=0.2,\n",
    "                           random_state=1983,\n",
    "                           is_unbalance=True,\n",
    "                           # scale_pos_weight=130,\n",
    "                           metric='auc')\n",
    "\n",
    "\n",
    "oof = []\n",
    "prediction = test[['session_id']]\n",
    "prediction[ycol] = 0\n",
    "df_importance_list = []\n",
    "\n",
    "kfold = StratifiedKFold(n_splits=20, shuffle=True, random_state=1983)\n",
    "for fold_id, (trn_idx, val_idx) in enumerate(kfold.split(train[feature_names], train[ycol])):\n",
    "    X_train = train.iloc[trn_idx][feature_names]\n",
    "    Y_train = train.iloc[trn_idx][ycol]\n",
    "\n",
    "    X_val = train.iloc[val_idx][feature_names]\n",
    "    Y_val = train.iloc[val_idx][ycol]\n",
    "\n",
    "    print('\\nFold_{} Training ================================\\n'.format(fold_id + 1))\n",
    "\n",
    "    lgb_model = model.fit(X_train,\n",
    "                          Y_train,\n",
    "                          eval_names=['train', 'valid'],\n",
    "                          eval_set=[(X_train, Y_train), (X_val, Y_val)],\n",
    "                          verbose=500,\n",
    "                          eval_metric='auc',\n",
    "                          early_stopping_rounds=50)\n",
    "\n",
    "    pred_val = lgb_model.predict_proba(\n",
    "        X_val, num_iteration=lgb_model.best_iteration_)\n",
    "    df_oof = train.iloc[val_idx][['session_id', ycol]].copy()\n",
    "    df_oof['pred'] = pred_val[:, 1]\n",
    "    oof.append(df_oof)\n",
    "\n",
    "    pred_test = lgb_model.predict_proba(\n",
    "        test[feature_names], num_iteration=lgb_model.best_iteration_)\n",
    "    prediction[ycol] += pred_test[:, 1] / kfold.n_splits\n",
    "\n",
    "    df_importance = pd.DataFrame({\n",
    "        'column': feature_names,\n",
    "        'importance': lgb_model.feature_importances_,\n",
    "    })\n",
    "    df_importance_list.append(df_importance)\n",
    "\n",
    "\n",
    "df_importance = pd.concat(df_importance_list)\n",
    "df_importance = df_importance.groupby(['column'])['importance'].agg(\n",
    "    'mean').sort_values(ascending=False).reset_index()\n",
    "df_importance"
   ]
  },
  {
   "cell_type": "code",
   "execution_count": 12,
   "metadata": {},
   "outputs": [
    {
     "name": "stdout",
     "output_type": "stream",
     "text": [
      "roc_auc_score 0.5276949782894277\n"
     ]
    }
   ],
   "source": [
    "df_oof = pd.concat(oof)\n",
    "print('roc_auc_score', roc_auc_score(df_oof[ycol], df_oof['pred']))"
   ]
  },
  {
   "cell_type": "code",
   "execution_count": 13,
   "metadata": {},
   "outputs": [
    {
     "data": {
      "text/html": [
       "<div>\n",
       "<style scoped>\n",
       "    .dataframe tbody tr th:only-of-type {\n",
       "        vertical-align: middle;\n",
       "    }\n",
       "\n",
       "    .dataframe tbody tr th {\n",
       "        vertical-align: top;\n",
       "    }\n",
       "\n",
       "    .dataframe thead th {\n",
       "        text-align: right;\n",
       "    }\n",
       "</style>\n",
       "<table border=\"1\" class=\"dataframe\">\n",
       "  <thead>\n",
       "    <tr style=\"text-align: right;\">\n",
       "      <th></th>\n",
       "      <th>id</th>\n",
       "      <th>ret</th>\n",
       "    </tr>\n",
       "  </thead>\n",
       "  <tbody>\n",
       "    <tr>\n",
       "      <td>6147</td>\n",
       "      <td>1</td>\n",
       "      <td>0.357177</td>\n",
       "    </tr>\n",
       "    <tr>\n",
       "      <td>6148</td>\n",
       "      <td>2</td>\n",
       "      <td>0.514377</td>\n",
       "    </tr>\n",
       "    <tr>\n",
       "      <td>6149</td>\n",
       "      <td>3</td>\n",
       "      <td>0.420228</td>\n",
       "    </tr>\n",
       "    <tr>\n",
       "      <td>6150</td>\n",
       "      <td>4</td>\n",
       "      <td>0.407734</td>\n",
       "    </tr>\n",
       "    <tr>\n",
       "      <td>6151</td>\n",
       "      <td>5</td>\n",
       "      <td>0.275575</td>\n",
       "    </tr>\n",
       "  </tbody>\n",
       "</table>\n",
       "</div>"
      ],
      "text/plain": [
       "      id       ret\n",
       "6147   1  0.357177\n",
       "6148   2  0.514377\n",
       "6149   3  0.420228\n",
       "6150   4  0.407734\n",
       "6151   5  0.275575"
      ]
     },
     "execution_count": 13,
     "metadata": {},
     "output_type": "execute_result"
    }
   ],
   "source": [
    "prediction['id'] = range(len(prediction))\n",
    "prediction['id'] = prediction['id'] + 1\n",
    "prediction = prediction[['id', 'risk_label']].copy()\n",
    "prediction.columns = ['id', 'ret']\n",
    "prediction.head()"
   ]
  },
  {
   "cell_type": "code",
   "execution_count": 14,
   "metadata": {},
   "outputs": [
    {
     "data": {
      "text/plain": [
       "count    10000.000000\n",
       "mean         0.438755\n",
       "std          0.117016\n",
       "min          0.130576\n",
       "25%          0.349916\n",
       "50%          0.436030\n",
       "75%          0.526084\n",
       "max          0.776724\n",
       "Name: ret, dtype: float64"
      ]
     },
     "execution_count": 14,
     "metadata": {},
     "output_type": "execute_result"
    }
   ],
   "source": [
    "prediction['ret'].describe()"
   ]
  },
  {
   "cell_type": "code",
   "execution_count": 15,
   "metadata": {},
   "outputs": [],
   "source": [
    "# prediction.to_csv('../sub/1113baseline.csv', index=False)"
   ]
  },
  {
   "cell_type": "code",
   "execution_count": 16,
   "metadata": {},
   "outputs": [],
   "source": [
    "# 绘制roc曲线\n",
    "# df_oof\n",
    "tpr = []\n",
    "fpr = []\n",
    "\n",
    "def roc(real, pred):\n",
    "#     for i in tqdm(range(0, 101)):\n",
    "    for i in range(0, 101):\n",
    "        prob = i/100.0\n",
    "        tmp = df_oof[df_oof['risk_label']==1]['pred'].apply(lambda x:x>=prob)\n",
    "        tmp = pd.DataFrame(tmp).reset_index(drop=True)\n",
    "        tp = len(tmp[tmp['pred']==True])\n",
    "        \n",
    "        tmp = df_oof[df_oof['risk_label']==0]['pred'].apply(lambda x:x<prob)\n",
    "        tmp = pd.DataFrame(tmp).reset_index(drop=True)\n",
    "        tn = len(tmp[tmp['pred']==True])\n",
    "        \n",
    "        tmp = df_oof[df_oof['risk_label']==0]['pred'].apply(lambda x:x>=prob)\n",
    "        tmp = pd.DataFrame(tmp).reset_index(drop=True)\n",
    "        fp = len(tmp[tmp['pred']==True])\n",
    "        \n",
    "        tmp = df_oof[df_oof['risk_label']==1]['pred'].apply(lambda x:x<prob)\n",
    "        tmp = pd.DataFrame(tmp).reset_index(drop=True)\n",
    "        fn = len(tmp[tmp['pred']==True])\n",
    "        \n",
    "#         print(f'tp is{tp}, tn is {tn}, fp is {fp}, fn is {fn}')\n",
    "        \n",
    "        tmp_tpr = tp/(tp+fn)\n",
    "        tmp_fpr = fp/(tn+fp)\n",
    "        tpr.append(tmp_tpr)\n",
    "        fpr.append(tmp_fpr)\n",
    "\n",
    "        \n",
    "roc(df_oof['risk_label'], df_oof['pred'])\n",
    "        \n",
    "        \n",
    "    \n",
    "    "
   ]
  },
  {
   "cell_type": "code",
   "execution_count": 17,
   "metadata": {},
   "outputs": [
    {
     "data": {
      "image/png": "[encoded data removed]",
      "text/plain": [
       "<Figure size 432x288 with 1 Axes>"
      ]
     },
     "metadata": {
      "needs_background": "light"
     },
     "output_type": "display_data"
    }
   ],
   "source": [
    "import matplotlib.pyplot as plt\n",
    "\n",
    "plt.plot(fpr, tpr)\n",
    "plt.show()"
   ]
  },
  {
   "cell_type": "code",
   "execution_count": 18,
   "metadata": {},
   "outputs": [
    {
     "name": "stdout",
     "output_type": "stream",
     "text": [
      "train auc is: 0.5277010058743603\n"
     ]
    }
   ],
   "source": [
    "# auc计算的实现\n",
    "df = df_oof.copy()\n",
    "M = 2940\n",
    "N = 12076\n",
    "tmp = df.sort_values('pred').reset_index(drop=True)\n",
    "t = tmp[tmp['risk_label']==1.0]\n",
    "# 计算auc的值\n",
    "t = t.reset_index()\n",
    "t['index'] = t['index'] + 1\n",
    "auc = (t['index'].sum()-M*(M+1)/2)/(M*N)\n",
    "print(f'train auc is: {auc}')"
   ]
  },
  {
   "cell_type": "code",
   "execution_count": null,
   "metadata": {},
   "outputs": [],
   "source": []
  }
 ],
 "metadata": {
  "kernelspec": {
   "display_name": "Python 3",
   "language": "python",
   "name": "python3"
  },
  "language_info": {
   "codemirror_mode": {
    "name": "ipython",
    "version": 3
   },
   "file_extension": ".py",
   "mimetype": "text/x-python",
   "name": "python",
   "nbconvert_exporter": "python",
   "pygments_lexer": "ipython3",
   "version": "3.7.4"
  },
  "toc": {
   "base_numbering": 1,
   "nav_menu": {},
   "number_sections": true,
   "sideBar": true,
   "skip_h1_title": false,
   "title_cell": "Table of Contents",
   "title_sidebar": "Contents",
   "toc_cell": false,
   "toc_position": {},
   "toc_section_display": true,
   "toc_window_display": false
  }
 },
 "nbformat": 4,
 "nbformat_minor": 2
}
